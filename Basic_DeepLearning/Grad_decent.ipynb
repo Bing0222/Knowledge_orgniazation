{
 "cells": [
  {
   "cell_type": "markdown",
   "id": "a6dea58f",
   "metadata": {},
   "source": [
    "## Grad decent"
   ]
  },
  {
   "cell_type": "markdown",
   "id": "b2fc9d8a",
   "metadata": {},
   "source": [
    "Using fundtion about grad decent(Metrix) finishs a simple example by AutoGrad module:\n",
    "\n",
    "<center>$$1 * a + b =2 $$\n",
    "<center>$$3*a + b = 4 $$"
   ]
  },
  {
   "cell_type": "markdown",
   "id": "4b16eadd",
   "metadata": {},
   "source": [
    "$$ X =\n",
    "\\left [\\begin{array}{cccc}\n",
    "1 & 1 \\\\\n",
    "3 & 1 \\\\\n",
    "\\end{array}\\right]\n",
    "$$"
   ]
  },
  {
   "cell_type": "markdown",
   "id": "92f6a53e",
   "metadata": {},
   "source": [
    "$$ y = \n",
    "\\left[\\begin{array}{cccc}\n",
    "2 \\\\\n",
    "4\\\\\n",
    "\\end{array}\\right]\n",
    "$$"
   ]
  },
  {
   "cell_type": "markdown",
   "id": "9b30040f",
   "metadata": {},
   "source": [
    "$$\\hat w = \\left[\\begin{array}{cccc}\n",
    "a\\\\\n",
    "b\\\\\n",
    "\\end{array}\\right]\n",
    "$$"
   ]
  },
  {
   "cell_type": "code",
   "execution_count": 1,
   "id": "08a49233",
   "metadata": {},
   "outputs": [],
   "source": [
    "import torch"
   ]
  },
  {
   "cell_type": "code",
   "execution_count": 17,
   "id": "19e9913c",
   "metadata": {},
   "outputs": [
    {
     "data": {
      "text/plain": [
       "tensor([[0.],\n",
       "        [0.]], requires_grad=True)"
      ]
     },
     "execution_count": 17,
     "metadata": {},
     "output_type": "execute_result"
    }
   ],
   "source": [
    "# setting paramters\n",
    "weights = torch.zeros(2, 1, requires_grad = True)\n",
    "weights"
   ]
  },
  {
   "cell_type": "code",
   "execution_count": 18,
   "id": "5250ac89",
   "metadata": {},
   "outputs": [
    {
     "data": {
      "text/plain": [
       "tensor([[1., 1.],\n",
       "        [3., 1.]], requires_grad=True)"
      ]
     },
     "execution_count": 18,
     "metadata": {},
     "output_type": "execute_result"
    }
   ],
   "source": [
    "X = torch.tensor([[1,1.],[3,1]], requires_grad = True)\n",
    "X"
   ]
  },
  {
   "cell_type": "code",
   "execution_count": 19,
   "id": "d051918c",
   "metadata": {},
   "outputs": [
    {
     "data": {
      "text/plain": [
       "tensor([2., 4.], requires_grad=True)"
      ]
     },
     "execution_count": 19,
     "metadata": {},
     "output_type": "execute_result"
    }
   ],
   "source": [
    "y = torch.tensor([2,4.], requires_grad = True)\n",
    "y"
   ]
  },
  {
   "cell_type": "code",
   "execution_count": 20,
   "id": "78e12e6c",
   "metadata": {},
   "outputs": [
    {
     "data": {
      "text/plain": [
       "tensor(0.0100, requires_grad=True)"
      ]
     },
     "execution_count": 20,
     "metadata": {},
     "output_type": "execute_result"
    }
   ],
   "source": [
    "eps = torch.tensor(0.01, requires_grad = True)\n",
    "eps"
   ]
  },
  {
   "cell_type": "code",
   "execution_count": 21,
   "id": "9ca69a33",
   "metadata": {},
   "outputs": [],
   "source": [
    "grad = torch.mm(X.t(), (torch.mm(X, weights) - y))/2"
   ]
  },
  {
   "cell_type": "code",
   "execution_count": 22,
   "id": "a65439b1",
   "metadata": {},
   "outputs": [
    {
     "data": {
      "text/plain": [
       "tensor([[-4., -8.],\n",
       "        [-2., -4.]], grad_fn=<DivBackward0>)"
      ]
     },
     "execution_count": 22,
     "metadata": {},
     "output_type": "execute_result"
    }
   ],
   "source": [
    "grad"
   ]
  },
  {
   "cell_type": "code",
   "execution_count": 24,
   "id": "1532aa88",
   "metadata": {},
   "outputs": [],
   "source": [
    "weights = weights - eps * grad"
   ]
  },
  {
   "cell_type": "code",
   "execution_count": 25,
   "id": "4b700c61",
   "metadata": {},
   "outputs": [
    {
     "data": {
      "text/plain": [
       "tensor([[0.0400, 0.0800],\n",
       "        [0.0200, 0.0400]], grad_fn=<SubBackward0>)"
      ]
     },
     "execution_count": 25,
     "metadata": {},
     "output_type": "execute_result"
    }
   ],
   "source": [
    "weights"
   ]
  },
  {
   "cell_type": "markdown",
   "id": "e2d94ace",
   "metadata": {},
   "source": [
    ">- liter 3 times"
   ]
  },
  {
   "cell_type": "code",
   "execution_count": 26,
   "id": "d4ee0234",
   "metadata": {},
   "outputs": [],
   "source": [
    "for k in range(3):\n",
    "    grad = torch.mm(X.t(),(torch.mm(X,weights)-y))/2\n",
    "    weights = weights - eps * grad"
   ]
  },
  {
   "cell_type": "code",
   "execution_count": 27,
   "id": "dc906011",
   "metadata": {},
   "outputs": [
    {
     "data": {
      "text/plain": [
       "tensor([[0.1462, 0.2923],\n",
       "        [0.0742, 0.1485]], grad_fn=<SubBackward0>)"
      ]
     },
     "execution_count": 27,
     "metadata": {},
     "output_type": "execute_result"
    }
   ],
   "source": [
    "weights"
   ]
  },
  {
   "cell_type": "code",
   "execution_count": 37,
   "id": "87d808c7",
   "metadata": {},
   "outputs": [],
   "source": [
    "def gradDescent(X,y,eps = torch.tensor(0.01,requires_grad=True), numIt = 1000):\n",
    "    m,n = X.shape\n",
    "    weights = torch.zeros(n, 1, requires_grad=True)\n",
    "    for k in range(numIt):\n",
    "        grad = torch.mm(X.t(),(torch.mm(X,weights)-y))/2\n",
    "        weights = weights - eps * grad\n",
    "    return weights"
   ]
  },
  {
   "cell_type": "code",
   "execution_count": 38,
   "id": "7aa2aa88",
   "metadata": {},
   "outputs": [],
   "source": [
    "X = torch.tensor([[1.,1],[3, 1]], requires_grad = True)\n",
    "y = torch.tensor([2.,4], requires_grad = True).reshape(2,1)"
   ]
  },
  {
   "cell_type": "code",
   "execution_count": 39,
   "id": "8472a9cd",
   "metadata": {},
   "outputs": [
    {
     "data": {
      "text/plain": [
       "tensor([[1.0372],\n",
       "        [0.9102]], grad_fn=<SubBackward0>)"
      ]
     },
     "execution_count": 39,
     "metadata": {},
     "output_type": "execute_result"
    }
   ],
   "source": [
    "gradDescent(X,y)"
   ]
  },
  {
   "cell_type": "code",
   "execution_count": 40,
   "id": "6dc6f9b8",
   "metadata": {},
   "outputs": [
    {
     "data": {
      "text/plain": [
       "tensor([[1.0000],\n",
       "        [1.0000]], grad_fn=<SubBackward0>)"
      ]
     },
     "execution_count": 40,
     "metadata": {},
     "output_type": "execute_result"
    }
   ],
   "source": [
    "weights = gradDescent(X,y, numIt=10000)\n",
    "weights"
   ]
  },
  {
   "cell_type": "code",
   "execution_count": null,
   "id": "094ea114",
   "metadata": {},
   "outputs": [],
   "source": []
  }
 ],
 "metadata": {
  "kernelspec": {
   "display_name": "Python 3 (ipykernel)",
   "language": "python",
   "name": "python3"
  },
  "language_info": {
   "codemirror_mode": {
    "name": "ipython",
    "version": 3
   },
   "file_extension": ".py",
   "mimetype": "text/x-python",
   "name": "python",
   "nbconvert_exporter": "python",
   "pygments_lexer": "ipython3",
   "version": "3.7.0"
  }
 },
 "nbformat": 4,
 "nbformat_minor": 5
}
