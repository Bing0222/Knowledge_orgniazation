{
 "cells": [
  {
   "cell_type": "markdown",
   "id": "457ca37e",
   "metadata": {
    "pycharm": {
     "name": "#%% md\n"
    }
   },
   "source": [
    "# Linear_regression\n",
    "step by step"
   ]
  },
  {
   "cell_type": "code",
   "execution_count": 10,
   "id": "53088520",
   "metadata": {
    "ExecuteTime": {
     "end_time": "2023-01-05T18:58:14.342120Z",
     "start_time": "2023-01-05T18:58:14.334117Z"
    },
    "pycharm": {
     "name": "#%%\n"
    }
   },
   "outputs": [],
   "source": [
    "import random\n",
    "import matplotlib.pyplot as plt\n",
    "import matplotlib as mpl\n",
    "\n",
    "import numpy as np\n",
    "\n",
    "import torch\n",
    "import torch.nn as nn\n",
    "import torch.optim as optim\n",
    "import torch.nn.functional as F\n",
    "from torch.utils.data import Dataset,TensorDataset,DataLoader\n",
    "from torch.utils.tensorboard import SummaryWriter\n",
    "\n",
    "from torchLearning import *"
   ]
  },
  {
   "cell_type": "markdown",
   "id": "1b5f4472",
   "metadata": {
    "heading_collapsed": true,
    "pycharm": {
     "name": "#%% md\n"
    }
   },
   "source": [
    "## Generation datasets "
   ]
  },
  {
   "cell_type": "markdown",
   "id": "ec9b0bfe",
   "metadata": {
    "hidden": true,
    "pycharm": {
     "name": "#%% md\n"
    }
   },
   "source": [
    "- For example: $y = 2x_1-X_2 + 1$"
   ]
  },
  {
   "cell_type": "code",
   "execution_count": 11,
   "id": "f8d8dbbb",
   "metadata": {
    "ExecuteTime": {
     "end_time": "2023-01-05T18:58:16.271104Z",
     "start_time": "2023-01-05T18:58:16.251096Z"
    },
    "hidden": true
   },
   "outputs": [],
   "source": [
    "# 回归类数据集创建函数\n",
    "def tensorGenReg(num_examples = 1000, w = [2, -1, 1], bias = True, delta = 0.01, deg = 1):\n",
    "    \"\"\"回归类数据集创建函数。\n",
    "\n",
    "    :param num_examples: 创建数据集的数据量\n",
    "    :param w: 包括截距的（如果存在）特征系数向量\n",
    "    :param bias：是否需要截距\n",
    "    :param delta：扰动项取值\n",
    "    :param deg：方程次数\n",
    "    :return: 生成的特征张和标签张量\n",
    "    \"\"\"\n",
    "    \n",
    "    if bias == True:\n",
    "        num_inputs = len(w)-1                                                        # 特征张量\n",
    "        features_true = torch.randn(num_examples, num_inputs)                        # 不包含全是1的列的特征张量\n",
    "        w_true = torch.tensor(w[:-1]).reshape(-1, 1).float()                         # 自变量系数\n",
    "        b_true = torch.tensor(w[-1]).float()                                         # 截距\n",
    "        if num_inputs == 1:                                                          # 若输入特征只有1个，则不能使用矩阵乘法\n",
    "            labels_true = torch.pow(features_true, deg) * w_true + b_true\n",
    "        else:\n",
    "            labels_true = torch.mm(torch.pow(features_true, deg), w_true) + b_true\n",
    "        features = torch.cat((features_true, torch.ones(len(features_true), 1)), 1)  # 在特征张量的最后添加一列全是1的列\n",
    "        labels = labels_true + torch.randn(size = labels_true.shape) * delta         \n",
    "                \n",
    "    else: \n",
    "        num_inputs = len(w)\n",
    "        features = torch.randn(num_examples, num_inputs)\n",
    "        w_true = torch.tensor(w).reshape(-1, 1).float()\n",
    "        if num_inputs == 1:\n",
    "            labels_true = torch.pow(features, deg) * w_true\n",
    "        else:\n",
    "            labels_true = torch.mm(torch.pow(features, deg), w_true)\n",
    "        labels = labels_true + torch.randn(size = labels_true.shape) * delta\n",
    "    return features, labels"
   ]
  },
  {
   "cell_type": "code",
   "execution_count": 13,
   "id": "52c7c77e",
   "metadata": {
    "ExecuteTime": {
     "end_time": "2023-01-05T18:58:26.056106Z",
     "start_time": "2023-01-05T18:58:26.043687Z"
    },
    "hidden": true,
    "pycharm": {
     "name": "#%%\n"
    }
   },
   "outputs": [],
   "source": [
    "torch.manual_seed(420)\n",
    "features, labels = tensorGenReg()"
   ]
  },
  {
   "cell_type": "markdown",
   "id": "73de0103",
   "metadata": {
    "heading_collapsed": true,
    "pycharm": {
     "name": "#%%\n"
    }
   },
   "source": [
    "## Module"
   ]
  },
  {
   "cell_type": "markdown",
   "id": "d965f036",
   "metadata": {
    "hidden": true
   },
   "source": [
    "### Select model"
   ]
  },
  {
   "cell_type": "code",
   "execution_count": 14,
   "id": "3a0d5aab",
   "metadata": {
    "ExecuteTime": {
     "end_time": "2023-01-05T19:58:43.737851Z",
     "start_time": "2023-01-05T19:58:43.721798Z"
    },
    "hidden": true
   },
   "outputs": [],
   "source": [
    "def linreg(X,w):\n",
    "    return torch.mm(X,w)"
   ]
  },
  {
   "cell_type": "markdown",
   "id": "b00c6247",
   "metadata": {
    "hidden": true
   },
   "source": [
    "### Select Loss function"
   ]
  },
  {
   "cell_type": "code",
   "execution_count": 15,
   "id": "2a9460b0",
   "metadata": {
    "ExecuteTime": {
     "end_time": "2023-01-05T20:01:12.741732Z",
     "start_time": "2023-01-05T20:01:12.728493Z"
    },
    "hidden": true
   },
   "outputs": [],
   "source": [
    "def squared_loss(y_hat,y):\n",
    "    num_ = y.numel() # It returns the length of the input tensor\n",
    "    sse = torch.sum((y_hat.reshape(-1,1) - y.reshape(-1,1)) ** 2)\n",
    "    return sse/num_"
   ]
  },
  {
   "cell_type": "markdown",
   "id": "2e9f4939",
   "metadata": {
    "hidden": true
   },
   "source": [
    "### Select optim"
   ]
  },
  {
   "cell_type": "code",
   "execution_count": 16,
   "id": "5a8c42a0",
   "metadata": {
    "ExecuteTime": {
     "end_time": "2023-01-05T20:02:07.556768Z",
     "start_time": "2023-01-05T20:02:07.547663Z"
    },
    "hidden": true
   },
   "outputs": [],
   "source": [
    "def sgd(params,lr):\n",
    "    params.data -= lr * params.grad\n",
    "    params.grad.zero_()"
   ]
  },
  {
   "cell_type": "markdown",
   "id": "a334aaa4",
   "metadata": {},
   "source": [
    "## Train"
   ]
  },
  {
   "cell_type": "code",
   "execution_count": 17,
   "id": "6acfdc9d",
   "metadata": {
    "ExecuteTime": {
     "end_time": "2023-01-05T20:03:02.997492Z",
     "start_time": "2023-01-05T20:03:02.977562Z"
    }
   },
   "outputs": [],
   "source": [
    "write = SummaryWriter(log_dir='reg_loss')"
   ]
  },
  {
   "cell_type": "code",
   "execution_count": 18,
   "id": "484c06c1",
   "metadata": {
    "ExecuteTime": {
     "end_time": "2023-01-05T20:05:07.358205Z",
     "start_time": "2023-01-05T20:05:07.338521Z"
    }
   },
   "outputs": [],
   "source": [
    "def data_iter(batch_size, features, labels):\n",
    "    \"\"\"\n",
    "    数据切分函数\n",
    "    \n",
    "    :param batch_size: 每个子数据集包含多少数据\n",
    "    :param featurs: 输入的特征张量\n",
    "    :param labels：输入的标签张量\n",
    "    :return l：包含batch_size个列表，每个列表切分后的特征和标签所组成 \n",
    "    \"\"\"\n",
    "    num_examples = len(features)\n",
    "    indices = list(range(num_examples))\n",
    "    random.shuffle(indices)\n",
    "    l = []\n",
    "    for i in range(0, num_examples, batch_size):\n",
    "        j = torch.tensor(indices[i: min(i + batch_size, num_examples)])\n",
    "        l.append([torch.index_select(features, 0, j), torch.index_select(labels, 0, j)])\n",
    "    return l\n"
   ]
  },
  {
   "cell_type": "code",
   "execution_count": 20,
   "id": "22307b31",
   "metadata": {
    "ExecuteTime": {
     "end_time": "2023-01-05T20:08:05.492912Z",
     "start_time": "2023-01-05T20:08:05.367864Z"
    }
   },
   "outputs": [
    {
     "name": "stdout",
     "output_type": "stream",
     "text": [
      "epoch 1, loss 0.000127\n",
      "epoch 2, loss 0.000102\n",
      "epoch 3, loss 0.000101\n"
     ]
    }
   ],
   "source": [
    "batch_size = 10\n",
    "lr = 0.03\n",
    "num_epochs = 3\n",
    "w = torch.zeros(3,1, requires_grad=True)\n",
    "\n",
    "net = linreg\n",
    "loss = squared_loss\n",
    "\n",
    "for epoch in range(num_epochs):\n",
    "    for X,y in data_iter(batch_size, features, labels):\n",
    "        l = loss(net(X,w),y)\n",
    "        l.backward()\n",
    "        sgd(w,lr)\n",
    "    train_l = loss(net(features,w), labels)\n",
    "    print('epoch %d, loss %f' %(epoch+1, train_l))"
   ]
  },
  {
   "cell_type": "code",
   "execution_count": 21,
   "id": "4c3ec687",
   "metadata": {
    "ExecuteTime": {
     "end_time": "2023-01-05T20:10:36.825687Z",
     "start_time": "2023-01-05T20:10:36.752691Z"
    }
   },
   "outputs": [],
   "source": [
    "batch_size = 10\n",
    "lr = 0.03\n",
    "num_epochs = 3\n",
    "w = torch.zeros(3,1, requires_grad=True)\n",
    "\n",
    "net = linreg\n",
    "loss = squared_loss\n",
    "\n",
    "for epoch in range(num_epochs):\n",
    "    for X,y in data_iter(batch_size, features, labels):\n",
    "        l = loss(net(X,w),y)\n",
    "        l.backward()\n",
    "        sgd(w,lr)\n",
    "    train_l = loss(net(features,w), labels)\n",
    "    write.add_scalar('mul', train_l, epoch)"
   ]
  },
  {
   "cell_type": "markdown",
   "id": "851e3eb6",
   "metadata": {
    "ExecuteTime": {
     "end_time": "2023-01-05T20:14:16.495103Z",
     "start_time": "2023-01-05T20:14:16.473410Z"
    }
   },
   "source": [
    "# Using function(torch)"
   ]
  },
  {
   "cell_type": "markdown",
   "id": "281d9d15",
   "metadata": {},
   "source": [
    "## define parameters"
   ]
  },
  {
   "cell_type": "code",
   "execution_count": 25,
   "id": "5e9e7e98",
   "metadata": {
    "ExecuteTime": {
     "end_time": "2023-01-05T20:17:56.496285Z",
     "start_time": "2023-01-05T20:17:56.487236Z"
    }
   },
   "outputs": [],
   "source": [
    "batch_size = 10\n",
    "lr = 0.03\n",
    "mum_epochs = 3"
   ]
  },
  {
   "cell_type": "markdown",
   "id": "45df79a3",
   "metadata": {},
   "source": [
    "## Preparation data"
   ]
  },
  {
   "cell_type": "code",
   "execution_count": 26,
   "id": "a60a42ba",
   "metadata": {
    "ExecuteTime": {
     "end_time": "2023-01-05T20:23:21.706579Z",
     "start_time": "2023-01-05T20:23:21.683287Z"
    }
   },
   "outputs": [],
   "source": [
    "torch.manual_seed(420)\n",
    "\n",
    "features,labels = tensorGenReg()\n",
    "features = features[:,:-1]\n",
    "data = TensorDataset(features,labels)\n",
    "batchData = DataLoader(data,batch_size=batch_size,shuffle = True)"
   ]
  },
  {
   "cell_type": "markdown",
   "id": "92baf299",
   "metadata": {},
   "source": [
    "## Module"
   ]
  },
  {
   "cell_type": "markdown",
   "id": "1b38dea2",
   "metadata": {},
   "source": [
    "### Model"
   ]
  },
  {
   "cell_type": "code",
   "execution_count": 27,
   "id": "5290048b",
   "metadata": {
    "ExecuteTime": {
     "end_time": "2023-01-05T20:26:49.225198Z",
     "start_time": "2023-01-05T20:26:49.205086Z"
    }
   },
   "outputs": [],
   "source": [
    "class LR(nn.Module):\n",
    "    def __init__(self,in_features=2,out_features=1):\n",
    "        super().__init__()\n",
    "        self.linear = nn.Linear(in_features,out_features)\n",
    "    def forward(self,x):\n",
    "        out = self.linear(x)\n",
    "        return out\n",
    "    \n",
    "LR_model = LR()"
   ]
  },
  {
   "cell_type": "markdown",
   "id": "be9bf896",
   "metadata": {},
   "source": [
    "### Loss function"
   ]
  },
  {
   "cell_type": "code",
   "execution_count": 28,
   "id": "2a8df09d",
   "metadata": {
    "ExecuteTime": {
     "end_time": "2023-01-05T20:27:13.185206Z",
     "start_time": "2023-01-05T20:27:13.174733Z"
    }
   },
   "outputs": [],
   "source": [
    "criterion = nn.MSELoss()"
   ]
  },
  {
   "cell_type": "markdown",
   "id": "ad5b8de5",
   "metadata": {},
   "source": [
    "### Optim"
   ]
  },
  {
   "cell_type": "code",
   "execution_count": 29,
   "id": "ffc10620",
   "metadata": {
    "ExecuteTime": {
     "end_time": "2023-01-05T20:27:50.505100Z",
     "start_time": "2023-01-05T20:27:50.492834Z"
    }
   },
   "outputs": [],
   "source": [
    "optimizer = optim.SGD(LR_model.parameters(),lr=0.03)"
   ]
  },
  {
   "cell_type": "markdown",
   "id": "e6274e7b",
   "metadata": {},
   "source": [
    "### Train"
   ]
  },
  {
   "cell_type": "code",
   "execution_count": 32,
   "id": "6a6de64d",
   "metadata": {
    "ExecuteTime": {
     "end_time": "2023-01-05T20:30:49.620834Z",
     "start_time": "2023-01-05T20:30:49.609249Z"
    }
   },
   "outputs": [],
   "source": [
    "def fit(net,criterion, optimizer, batchdata,epochs):\n",
    "    for epoch in range(epochs):\n",
    "        for X,y in batchdata:\n",
    "            yhat = net.forward(X)\n",
    "            loss = criterion(yhat,y)\n",
    "            optimizer.zero_grad()\n",
    "            loss.backward()\n",
    "            optimizer.step()\n",
    "        write.add_scalar('loss',loss,global_step=epoch)"
   ]
  },
  {
   "cell_type": "code",
   "execution_count": 33,
   "id": "8a913c37",
   "metadata": {
    "ExecuteTime": {
     "end_time": "2023-01-05T20:30:50.115652Z",
     "start_time": "2023-01-05T20:30:49.999232Z"
    }
   },
   "outputs": [],
   "source": [
    "torch.manual_seed(420)   \n",
    "\n",
    "fit(net = LR_model, \n",
    "    criterion = criterion, \n",
    "    optimizer = optimizer, \n",
    "    batchdata = batchData, \n",
    "    epochs = num_epochs)"
   ]
  },
  {
   "cell_type": "markdown",
   "id": "923b7169",
   "metadata": {},
   "source": [
    "### Result"
   ]
  },
  {
   "cell_type": "code",
   "execution_count": 34,
   "id": "43f26918",
   "metadata": {
    "ExecuteTime": {
     "end_time": "2023-01-05T20:31:13.198528Z",
     "start_time": "2023-01-05T20:31:13.188962Z"
    }
   },
   "outputs": [
    {
     "data": {
      "text/plain": [
       "LR(\n",
       "  (linear): Linear(in_features=2, out_features=1, bias=True)\n",
       ")"
      ]
     },
     "execution_count": 34,
     "metadata": {},
     "output_type": "execute_result"
    }
   ],
   "source": [
    "LR_model"
   ]
  },
  {
   "cell_type": "code",
   "execution_count": 35,
   "id": "0316416e",
   "metadata": {
    "ExecuteTime": {
     "end_time": "2023-01-05T20:31:21.398659Z",
     "start_time": "2023-01-05T20:31:21.390617Z"
    }
   },
   "outputs": [
    {
     "data": {
      "text/plain": [
       "[Parameter containing:\n",
       " tensor([[ 1.9992, -1.0003]], requires_grad=True),\n",
       " Parameter containing:\n",
       " tensor([0.9994], requires_grad=True)]"
      ]
     },
     "execution_count": 35,
     "metadata": {},
     "output_type": "execute_result"
    }
   ],
   "source": [
    "list(LR_model.parameters())"
   ]
  },
  {
   "cell_type": "code",
   "execution_count": 36,
   "id": "e985809d",
   "metadata": {
    "ExecuteTime": {
     "end_time": "2023-01-05T20:31:34.403746Z",
     "start_time": "2023-01-05T20:31:34.381585Z"
    }
   },
   "outputs": [
    {
     "data": {
      "text/plain": [
       "tensor(0.0001, grad_fn=<MseLossBackward>)"
      ]
     },
     "execution_count": 36,
     "metadata": {},
     "output_type": "execute_result"
    }
   ],
   "source": [
    "criterion(LR_model(features),labels)"
   ]
  },
  {
   "cell_type": "code",
   "execution_count": 37,
   "id": "23139ed0",
   "metadata": {
    "ExecuteTime": {
     "end_time": "2023-01-05T20:31:54.569363Z",
     "start_time": "2023-01-05T20:31:54.467605Z"
    }
   },
   "outputs": [],
   "source": [
    "write.add_graph(LR_model,(features,))"
   ]
  },
  {
   "cell_type": "code",
   "execution_count": null,
   "id": "218b31dc",
   "metadata": {},
   "outputs": [],
   "source": []
  }
 ],
 "metadata": {
  "kernelspec": {
   "display_name": "Python 3 (ipykernel)",
   "language": "python",
   "name": "python3"
  },
  "language_info": {
   "codemirror_mode": {
    "name": "ipython",
    "version": 3
   },
   "file_extension": ".py",
   "mimetype": "text/x-python",
   "name": "python",
   "nbconvert_exporter": "python",
   "pygments_lexer": "ipython3",
   "version": "3.8.5"
  },
  "toc": {
   "base_numbering": 1,
   "nav_menu": {},
   "number_sections": true,
   "sideBar": false,
   "skip_h1_title": false,
   "title_cell": "Table of Contents",
   "title_sidebar": "Contents",
   "toc_cell": false,
   "toc_position": {
    "height": "687.2px",
    "left": "1461px",
    "top": "140px",
    "width": "236.25px"
   },
   "toc_section_display": true,
   "toc_window_display": true
  },
  "varInspector": {
   "cols": {
    "lenName": 16,
    "lenType": 16,
    "lenVar": 40
   },
   "kernels_config": {
    "python": {
     "delete_cmd_postfix": "",
     "delete_cmd_prefix": "del ",
     "library": "var_list.py",
     "varRefreshCmd": "print(var_dic_list())"
    },
    "r": {
     "delete_cmd_postfix": ") ",
     "delete_cmd_prefix": "rm(",
     "library": "var_list.r",
     "varRefreshCmd": "cat(var_dic_list()) "
    }
   },
   "types_to_exclude": [
    "module",
    "function",
    "builtin_function_or_method",
    "instance",
    "_Feature"
   ],
   "window_display": false
  }
 },
 "nbformat": 4,
 "nbformat_minor": 5
}
