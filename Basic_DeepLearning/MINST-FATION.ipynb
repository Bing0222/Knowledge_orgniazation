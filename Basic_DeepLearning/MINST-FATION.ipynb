{
 "cells": [
  {
   "cell_type": "markdown",
   "id": "8cf6cd98",
   "metadata": {},
   "source": [
    "# Example: MINST-FASHION"
   ]
  },
  {
   "cell_type": "markdown",
   "id": "09273c58",
   "metadata": {},
   "source": [
    "## Loading some library and setting some basic parameters"
   ]
  },
  {
   "cell_type": "code",
   "execution_count": 3,
   "id": "dc9c63a7",
   "metadata": {
    "ExecuteTime": {
     "end_time": "2023-01-03T22:42:28.045771Z",
     "start_time": "2023-01-03T22:42:28.028239Z"
    }
   },
   "outputs": [],
   "source": [
    "import torch\n",
    "import torch.nn as nn\n",
    "from torch import optim\n",
    "from torch.nn import functional as F\n",
    "from torch.utils.data import TensorDataset\n",
    "from torch.utils.data import DataLoader\n",
    "\n",
    "import torchvision\n",
    "import torchvision.transforms as transforms"
   ]
  },
  {
   "cell_type": "code",
   "execution_count": 22,
   "id": "d1aacf29",
   "metadata": {
    "ExecuteTime": {
     "end_time": "2023-01-03T23:10:59.989068Z",
     "start_time": "2023-01-03T23:10:59.985070Z"
    }
   },
   "outputs": [],
   "source": [
    "lr = 0.15\n",
    "gamma = 0\n",
    "epochs = 10\n",
    "bs = 128"
   ]
  },
  {
   "cell_type": "markdown",
   "id": "75aaf4f1",
   "metadata": {
    "heading_collapsed": true
   },
   "source": [
    "## Loading data and batch dataset"
   ]
  },
  {
   "cell_type": "code",
   "execution_count": 4,
   "id": "f3d653ab",
   "metadata": {
    "ExecuteTime": {
     "end_time": "2023-01-03T22:44:35.521625Z",
     "start_time": "2023-01-03T22:44:25.625326Z"
    },
    "hidden": true
   },
   "outputs": [
    {
     "name": "stdout",
     "output_type": "stream",
     "text": [
      "Downloading http://fashion-mnist.s3-website.eu-central-1.amazonaws.com/train-images-idx3-ubyte.gz to E:\\Deeplearning_basic\\Untitled Folder\\data\\FashionMNIST\\raw\\train-images-idx3-ubyte.gz\n"
     ]
    },
    {
     "data": {
      "application/vnd.jupyter.widget-view+json": {
       "model_id": "caf9d85bef3c4c268a170ab287f40e95",
       "version_major": 2,
       "version_minor": 0
      },
      "text/plain": [
       "  0%|          | 0/26421880 [00:00<?, ?it/s]"
      ]
     },
     "metadata": {},
     "output_type": "display_data"
    },
    {
     "name": "stdout",
     "output_type": "stream",
     "text": [
      "Extracting E:\\Deeplearning_basic\\Untitled Folder\\data\\FashionMNIST\\raw\\train-images-idx3-ubyte.gz to E:\\Deeplearning_basic\\Untitled Folder\\data\\FashionMNIST\\raw\n",
      "Downloading http://fashion-mnist.s3-website.eu-central-1.amazonaws.com/train-labels-idx1-ubyte.gz to E:\\Deeplearning_basic\\Untitled Folder\\data\\FashionMNIST\\raw\\train-labels-idx1-ubyte.gz\n"
     ]
    },
    {
     "data": {
      "application/vnd.jupyter.widget-view+json": {
       "model_id": "79f2e21c884a46078e032e879f2699ef",
       "version_major": 2,
       "version_minor": 0
      },
      "text/plain": [
       "  0%|          | 0/29515 [00:00<?, ?it/s]"
      ]
     },
     "metadata": {},
     "output_type": "display_data"
    },
    {
     "name": "stdout",
     "output_type": "stream",
     "text": [
      "Extracting E:\\Deeplearning_basic\\Untitled Folder\\data\\FashionMNIST\\raw\\train-labels-idx1-ubyte.gz to E:\\Deeplearning_basic\\Untitled Folder\\data\\FashionMNIST\\raw\n",
      "Downloading http://fashion-mnist.s3-website.eu-central-1.amazonaws.com/t10k-images-idx3-ubyte.gz to E:\\Deeplearning_basic\\Untitled Folder\\data\\FashionMNIST\\raw\\t10k-images-idx3-ubyte.gz\n"
     ]
    },
    {
     "data": {
      "application/vnd.jupyter.widget-view+json": {
       "model_id": "7207772ca1be43b49cecf6e5420c1255",
       "version_major": 2,
       "version_minor": 0
      },
      "text/plain": [
       "  0%|          | 0/4422102 [00:00<?, ?it/s]"
      ]
     },
     "metadata": {},
     "output_type": "display_data"
    },
    {
     "name": "stdout",
     "output_type": "stream",
     "text": [
      "Extracting E:\\Deeplearning_basic\\Untitled Folder\\data\\FashionMNIST\\raw\\t10k-images-idx3-ubyte.gz to E:\\Deeplearning_basic\\Untitled Folder\\data\\FashionMNIST\\raw\n",
      "Downloading http://fashion-mnist.s3-website.eu-central-1.amazonaws.com/t10k-labels-idx1-ubyte.gz to E:\\Deeplearning_basic\\Untitled Folder\\data\\FashionMNIST\\raw\\t10k-labels-idx1-ubyte.gz\n"
     ]
    },
    {
     "data": {
      "application/vnd.jupyter.widget-view+json": {
       "model_id": "a21a7f4fce214fcb820223a1730f6413",
       "version_major": 2,
       "version_minor": 0
      },
      "text/plain": [
       "  0%|          | 0/5148 [00:00<?, ?it/s]"
      ]
     },
     "metadata": {},
     "output_type": "display_data"
    },
    {
     "name": "stdout",
     "output_type": "stream",
     "text": [
      "Extracting E:\\Deeplearning_basic\\Untitled Folder\\data\\FashionMNIST\\raw\\t10k-labels-idx1-ubyte.gz to E:\\Deeplearning_basic\\Untitled Folder\\data\\FashionMNIST\\raw\n",
      "Processing...\n",
      "Done!\n"
     ]
    },
    {
     "name": "stderr",
     "output_type": "stream",
     "text": [
      "C:\\Users\\WenBi\\anaconda3\\envs\\24723_Pytorch\\lib\\site-packages\\torchvision\\datasets\\mnist.py:479: UserWarning: The given NumPy array is not writeable, and PyTorch does not support non-writeable tensors. This means you can write to the underlying (supposedly non-writeable) NumPy array using the tensor. You may want to copy the array to protect its data or make it writeable before converting it to a tensor. This type of warning will be suppressed for the rest of this program. (Triggered internally at  ..\\torch\\csrc\\utils\\tensor_numpy.cpp:143.)\n",
      "  return torch.from_numpy(parsed.astype(m[2], copy=False)).view(*s)\n"
     ]
    }
   ],
   "source": [
    "mnist = torchvision.datasets.FashionMNIST(root=r\"E:\\Deeplearning_basic\\Untitled Folder\\data\",\n",
    "                                          train=True,\n",
    "                                          download=True,\n",
    "                                          transform=transforms.ToTensor())"
   ]
  },
  {
   "cell_type": "code",
   "execution_count": 5,
   "id": "daf9e6d6",
   "metadata": {
    "ExecuteTime": {
     "end_time": "2023-01-03T22:44:57.911118Z",
     "start_time": "2023-01-03T22:44:57.891111Z"
    },
    "hidden": true
   },
   "outputs": [
    {
     "data": {
      "text/plain": [
       "60000"
      ]
     },
     "execution_count": 5,
     "metadata": {},
     "output_type": "execute_result"
    }
   ],
   "source": [
    "len(mnist)"
   ]
  },
  {
   "cell_type": "code",
   "execution_count": 8,
   "id": "d092a801",
   "metadata": {
    "ExecuteTime": {
     "end_time": "2023-01-03T22:45:27.592695Z",
     "start_time": "2023-01-03T22:45:27.578696Z"
    },
    "hidden": true
   },
   "outputs": [
    {
     "data": {
      "text/plain": [
       "['T-shirt/top',\n",
       " 'Trouser',\n",
       " 'Pullover',\n",
       " 'Dress',\n",
       " 'Coat',\n",
       " 'Sandal',\n",
       " 'Shirt',\n",
       " 'Sneaker',\n",
       " 'Bag',\n",
       " 'Ankle boot']"
      ]
     },
     "execution_count": 8,
     "metadata": {},
     "output_type": "execute_result"
    }
   ],
   "source": [
    "mnist.classes"
   ]
  },
  {
   "cell_type": "code",
   "execution_count": 9,
   "id": "1bc738a6",
   "metadata": {
    "ExecuteTime": {
     "end_time": "2023-01-03T22:46:13.048389Z",
     "start_time": "2023-01-03T22:46:12.712241Z"
    },
    "hidden": true
   },
   "outputs": [
    {
     "data": {
      "text/plain": [
       "<matplotlib.image.AxesImage at 0x26466b225b0>"
      ]
     },
     "execution_count": 9,
     "metadata": {},
     "output_type": "execute_result"
    },
    {
     "data": {
      "image/png": "[encoded data removed]",
      "text/plain": [
       "<Figure size 640x480 with 1 Axes>"
      ]
     },
     "metadata": {},
     "output_type": "display_data"
    }
   ],
   "source": [
    "import matplotlib.pyplot as plt\n",
    "plt.imshow(mnist[0][0].view((28, 28)).numpy())"
   ]
  },
  {
   "cell_type": "code",
   "execution_count": 11,
   "id": "da3ca7b6",
   "metadata": {
    "ExecuteTime": {
     "end_time": "2023-01-03T22:47:02.537386Z",
     "start_time": "2023-01-03T22:47:02.521469Z"
    },
    "hidden": true
   },
   "outputs": [],
   "source": [
    "batchdata = DataLoader(mnist, batch_size=bs, shuffle=True)"
   ]
  },
  {
   "cell_type": "code",
   "execution_count": 16,
   "id": "982fcfe3",
   "metadata": {
    "ExecuteTime": {
     "end_time": "2023-01-03T22:58:27.689998Z",
     "start_time": "2023-01-03T22:58:27.674997Z"
    },
    "hidden": true
   },
   "outputs": [
    {
     "data": {
      "text/plain": [
       "784"
      ]
     },
     "execution_count": 16,
     "metadata": {},
     "output_type": "execute_result"
    }
   ],
   "source": [
    "input_ = mnist.data[0].numel()\n",
    "input_"
   ]
  },
  {
   "cell_type": "code",
   "execution_count": 17,
   "id": "6e098e17",
   "metadata": {
    "ExecuteTime": {
     "end_time": "2023-01-03T22:58:57.390673Z",
     "start_time": "2023-01-03T22:58:57.369668Z"
    },
    "hidden": true
   },
   "outputs": [
    {
     "data": {
      "text/plain": [
       "10"
      ]
     },
     "execution_count": 17,
     "metadata": {},
     "output_type": "execute_result"
    }
   ],
   "source": [
    "output_ = len(mnist.targets.unique())\n",
    "output_"
   ]
  },
  {
   "cell_type": "markdown",
   "id": "a1efccea",
   "metadata": {},
   "source": [
    "## define Model"
   ]
  },
  {
   "cell_type": "code",
   "execution_count": 19,
   "id": "a4396bd6",
   "metadata": {
    "ExecuteTime": {
     "end_time": "2023-01-03T23:04:00.107032Z",
     "start_time": "2023-01-03T23:04:00.097035Z"
    }
   },
   "outputs": [],
   "source": [
    "class Model(nn.Module):\n",
    "    def __init__(self, in_features=10, out_features=2):\n",
    "        super().__init__()\n",
    "        self.normalize = nn.BatchNorm2d(num_features=1)\n",
    "        self.linear1 = nn.Linear(in_features, 128, bias=False)\n",
    "        self.output = nn.Linear(128, out_features, bias=False)\n",
    "\n",
    "    def forward(self, x):\n",
    "        x = self.normalize(x)\n",
    "        x = x.view(-1, 28*28)\n",
    "        sigma1 = torch.relu(self.linear1(x))\n",
    "        z2 = self.output(sigma1)\n",
    "        sigma2 = F.log_softmax(z2, dim=1)\n",
    "        return sigma2"
   ]
  },
  {
   "cell_type": "markdown",
   "id": "7519aa73",
   "metadata": {},
   "source": [
    "## define train"
   ]
  },
  {
   "cell_type": "code",
   "execution_count": 26,
   "id": "95976424",
   "metadata": {
    "ExecuteTime": {
     "end_time": "2023-01-03T23:13:06.162690Z",
     "start_time": "2023-01-03T23:13:06.154473Z"
    }
   },
   "outputs": [],
   "source": [
    "def fit(net, batchdata, lr=0.01, epochs=5, gamma=0):\n",
    "    criterion = nn.NLLLoss()\n",
    "    opt = optim.SGD(net.parameters(), lr=lr, momentum=gamma)\n",
    "    correct = 0\n",
    "    samples = 0\n",
    "    for epoch in range(epochs):\n",
    "        for batch_idx, (x, y) in enumerate(batchdata):\n",
    "            y = y.view(x.shape[0])\n",
    "            sigma = net.forward(x)\n",
    "            loss = criterion(sigma, y)\n",
    "            loss.backward()\n",
    "            opt.step()\n",
    "            opt.zero_grad()\n",
    "\n",
    "            yhat = torch.max(sigma, 1)[1]\n",
    "            correct += torch.sum(yhat == y)\n",
    "            samples += x.shape[0]\n",
    "\n",
    "            if (batch_idx+1) % 125 == 0 or batch_idx == len(batchdata)-1:\n",
    "                print('Epoch{}:[{}/{}({:.0f}%)]\\tLoss:{:.6f}\\t Accuracy:{:.3f}'.format(\n",
    "                    epoch+1, samples, len(batchdata.dataset)*epochs, 100*samples/(len(batchdata.dataset)*epochs), loss.data.item(), float(correct*100)/samples))"
   ]
  },
  {
   "cell_type": "code",
   "execution_count": 27,
   "id": "28d155e3",
   "metadata": {
    "ExecuteTime": {
     "end_time": "2023-01-03T23:13:57.137289Z",
     "start_time": "2023-01-03T23:13:06.598691Z"
    }
   },
   "outputs": [
    {
     "name": "stdout",
     "output_type": "stream",
     "text": [
      "Epoch1:[16000/600000(3%)]\tLoss:0.681106\t Accuracy:73.588\n",
      "Epoch1:[32000/600000(5%)]\tLoss:0.456472\t Accuracy:77.431\n",
      "Epoch1:[48000/600000(8%)]\tLoss:0.520036\t Accuracy:79.600\n",
      "Epoch1:[60000/600000(10%)]\tLoss:0.401977\t Accuracy:80.682\n",
      "Epoch2:[76000/600000(13%)]\tLoss:0.413218\t Accuracy:81.755\n",
      "Epoch2:[92000/600000(15%)]\tLoss:0.435151\t Accuracy:82.529\n",
      "Epoch2:[108000/600000(18%)]\tLoss:0.461325\t Accuracy:83.090\n",
      "Epoch2:[120000/600000(20%)]\tLoss:0.282380\t Accuracy:83.448\n",
      "Epoch3:[136000/600000(23%)]\tLoss:0.355174\t Accuracy:83.955\n",
      "Epoch3:[152000/600000(25%)]\tLoss:0.284532\t Accuracy:84.334\n",
      "Epoch3:[168000/600000(28%)]\tLoss:0.265914\t Accuracy:84.661\n",
      "Epoch3:[180000/600000(30%)]\tLoss:0.381284\t Accuracy:84.866\n",
      "Epoch4:[196000/600000(33%)]\tLoss:0.347258\t Accuracy:85.151\n",
      "Epoch4:[212000/600000(35%)]\tLoss:0.398573\t Accuracy:85.450\n",
      "Epoch4:[228000/600000(38%)]\tLoss:0.249681\t Accuracy:85.665\n",
      "Epoch4:[240000/600000(40%)]\tLoss:0.160493\t Accuracy:85.814\n",
      "Epoch5:[256000/600000(43%)]\tLoss:0.347868\t Accuracy:86.044\n",
      "Epoch5:[272000/600000(45%)]\tLoss:0.324116\t Accuracy:86.218\n",
      "Epoch5:[288000/600000(48%)]\tLoss:0.223161\t Accuracy:86.391\n",
      "Epoch5:[300000/600000(50%)]\tLoss:0.259548\t Accuracy:86.504\n",
      "Epoch6:[316000/600000(53%)]\tLoss:0.378891\t Accuracy:86.676\n",
      "Epoch6:[332000/600000(55%)]\tLoss:0.341119\t Accuracy:86.818\n",
      "Epoch6:[348000/600000(58%)]\tLoss:0.366410\t Accuracy:86.936\n",
      "Epoch6:[360000/600000(60%)]\tLoss:0.151669\t Accuracy:87.026\n",
      "Epoch7:[376000/600000(63%)]\tLoss:0.238989\t Accuracy:87.161\n",
      "Epoch7:[392000/600000(65%)]\tLoss:0.316177\t Accuracy:87.270\n",
      "Epoch7:[408000/600000(68%)]\tLoss:0.221896\t Accuracy:87.396\n",
      "Epoch7:[420000/600000(70%)]\tLoss:0.137955\t Accuracy:87.490\n",
      "Epoch8:[436000/600000(73%)]\tLoss:0.221628\t Accuracy:87.618\n",
      "Epoch8:[452000/600000(75%)]\tLoss:0.160574\t Accuracy:87.713\n",
      "Epoch8:[468000/600000(78%)]\tLoss:0.157857\t Accuracy:87.814\n",
      "Epoch8:[480000/600000(80%)]\tLoss:0.171036\t Accuracy:87.885\n",
      "Epoch9:[496000/600000(83%)]\tLoss:0.228170\t Accuracy:87.990\n",
      "Epoch9:[512000/600000(85%)]\tLoss:0.279116\t Accuracy:88.085\n",
      "Epoch9:[528000/600000(88%)]\tLoss:0.274492\t Accuracy:88.167\n",
      "Epoch9:[540000/600000(90%)]\tLoss:0.312425\t Accuracy:88.224\n",
      "Epoch10:[556000/600000(93%)]\tLoss:0.278195\t Accuracy:88.322\n",
      "Epoch10:[572000/600000(95%)]\tLoss:0.152129\t Accuracy:88.405\n",
      "Epoch10:[588000/600000(98%)]\tLoss:0.193422\t Accuracy:88.486\n",
      "Epoch10:[600000/600000(100%)]\tLoss:0.250594\t Accuracy:88.539\n"
     ]
    }
   ],
   "source": [
    "torch.manual_seed(420)\n",
    "net = Model(in_features=input_, out_features=output_)\n",
    "fit(net, batchdata, lr=lr, epochs=epochs, gamma=gamma)"
   ]
  },
  {
   "cell_type": "code",
   "execution_count": null,
   "id": "1279351e",
   "metadata": {},
   "outputs": [],
   "source": []
  }
 ],
 "metadata": {
  "kernelspec": {
   "display_name": "Python 3 (ipykernel)",
   "language": "python",
   "name": "python3"
  },
  "language_info": {
   "codemirror_mode": {
    "name": "ipython",
    "version": 3
   },
   "file_extension": ".py",
   "mimetype": "text/x-python",
   "name": "python",
   "nbconvert_exporter": "python",
   "pygments_lexer": "ipython3",
   "version": "3.8.5"
  },
  "toc": {
   "base_numbering": 1,
   "nav_menu": {},
   "number_sections": true,
   "sideBar": true,
   "skip_h1_title": false,
   "title_cell": "Table of Contents",
   "title_sidebar": "Contents",
   "toc_cell": false,
   "toc_position": {},
   "toc_section_display": true,
   "toc_window_display": false
  },
  "varInspector": {
   "cols": {
    "lenName": 16,
    "lenType": 16,
    "lenVar": 40
   },
   "kernels_config": {
    "python": {
     "delete_cmd_postfix": "",
     "delete_cmd_prefix": "del ",
     "library": "var_list.py",
     "varRefreshCmd": "print(var_dic_list())"
    },
    "r": {
     "delete_cmd_postfix": ") ",
     "delete_cmd_prefix": "rm(",
     "library": "var_list.r",
     "varRefreshCmd": "cat(var_dic_list()) "
    }
   },
   "types_to_exclude": [
    "module",
    "function",
    "builtin_function_or_method",
    "instance",
    "_Feature"
   ],
   "window_display": false
  }
 },
 "nbformat": 4,
 "nbformat_minor": 5
}
