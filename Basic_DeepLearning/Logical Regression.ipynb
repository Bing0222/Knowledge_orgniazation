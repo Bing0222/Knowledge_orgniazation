{
 "cells": [
  {
   "cell_type": "markdown",
   "id": "192c94ce",
   "metadata": {},
   "source": [
    "# Logic Regression"
   ]
  },
  {
   "cell_type": "markdown",
   "id": "2456f5c4",
   "metadata": {
    "heading_collapsed": true
   },
   "source": [
    "## Through write function to get logic regression"
   ]
  },
  {
   "cell_type": "code",
   "execution_count": 1,
   "id": "ba9df234",
   "metadata": {
    "ExecuteTime": {
     "end_time": "2023-01-05T21:23:38.522017Z",
     "start_time": "2023-01-05T21:23:38.274250Z"
    },
    "hidden": true
   },
   "outputs": [],
   "source": [
    "import random\n",
    "\n",
    "import matplotlib.pyplot as plt\n",
    "import numpy as np\n",
    "\n",
    "import torch\n",
    "import torch.nn as nn\n",
    "import torch.optim as optim\n",
    "import torch.nn.functional as F\n",
    "from torch.utils.data import Dataset, DataLoader, TensorDataset\n",
    "from torch.utils.tensorboard import SummaryWriter"
   ]
  },
  {
   "cell_type": "markdown",
   "id": "e1932dc9",
   "metadata": {
    "heading_collapsed": true,
    "hidden": true
   },
   "source": [
    "### Generation Datasets"
   ]
  },
  {
   "cell_type": "code",
   "execution_count": 2,
   "id": "22e140c9",
   "metadata": {
    "ExecuteTime": {
     "end_time": "2023-01-05T21:24:28.887316Z",
     "start_time": "2023-01-05T21:24:28.865771Z"
    },
    "hidden": true
   },
   "outputs": [],
   "source": [
    "def tensorGenCla(num_examples=500, num_inputs=2, num_class=3, deg_dispersion=[4, 2], bias=False):\n",
    "    \"\"\"分类数据集创建函数。\n",
    "\n",
    "    :param num_examples: 每个类别的数据数量\n",
    "    :param num_inputs: 数据集特征数量\n",
    "    :param num_class：数据集标签类别总数\n",
    "    :param deg_dispersion：数据分布离散程度参数，需要输入一个列表，其中第一个参数表示每个类别数组均值的参考、第二个参数表示随机数组标准差。\n",
    "    :param bias：建立模型逻辑回归模型时是否带入截距\n",
    "    :return: 生成的特征张量和标签张量，其中特征张量是浮点型二维数组，标签张量是长正型二维数组。\n",
    "    \"\"\"\n",
    "\n",
    "    cluster_l = torch.empty(num_examples, 1)  # 每一类标签张量的形状\n",
    "    mean_ = deg_dispersion[0]  # 每一类特征张量的均值的参考值\n",
    "    std_ = deg_dispersion[1]  # 每一类特征张量的方差\n",
    "    lf = []  # 用于存储每一类特征张量的列表容器\n",
    "    ll = []  # 用于存储每一类标签张量的列表容器\n",
    "    k = mean_ * (num_class - 1) / 2  # 每一类特征张量均值的惩罚因子（视频中部分是+1，实际应该是-1）\n",
    "\n",
    "    for i in range(num_class):\n",
    "        data_temp = torch.normal(\n",
    "            i * mean_ - k, std_, size=(num_examples, num_inputs))  # 生成每一类张量\n",
    "        lf.append(data_temp)  # 将每一类张量添加到lf中\n",
    "        labels_temp = torch.full_like(cluster_l, i)  # 生成类一类的标签\n",
    "        ll.append(labels_temp)  # 将每一类标签添加到ll中\n",
    "\n",
    "    features = torch.cat(lf).float()\n",
    "    labels = torch.cat(ll).long()\n",
    "\n",
    "    if bias == True:\n",
    "        features = torch.cat((features, torch.ones(\n",
    "            len(features), 1)), 1)  # 在特征张量中添加一列全是1的列\n",
    "    return features, labels"
   ]
  },
  {
   "cell_type": "code",
   "execution_count": 3,
   "id": "3d90458b",
   "metadata": {
    "ExecuteTime": {
     "end_time": "2023-01-05T21:25:11.168233Z",
     "start_time": "2023-01-05T21:25:11.155942Z"
    },
    "hidden": true
   },
   "outputs": [],
   "source": [
    "torch.manual_seed(420)\n",
    "features, labels = tensorGenCla(num_class=2, bias=True)"
   ]
  },
  {
   "cell_type": "markdown",
   "id": "b7bfa086",
   "metadata": {
    "hidden": true
   },
   "source": [
    "### Build Module"
   ]
  },
  {
   "cell_type": "markdown",
   "id": "273486fe",
   "metadata": {
    "heading_collapsed": true,
    "hidden": true
   },
   "source": [
    "### Select model"
   ]
  },
  {
   "cell_type": "markdown",
   "id": "ad6b8bdb",
   "metadata": {
    "hidden": true
   },
   "source": [
    "- activation function"
   ]
  },
  {
   "cell_type": "code",
   "execution_count": 4,
   "id": "fd046e1f",
   "metadata": {
    "ExecuteTime": {
     "end_time": "2023-01-05T21:27:56.884322Z",
     "start_time": "2023-01-05T21:27:56.877288Z"
    },
    "hidden": true
   },
   "outputs": [],
   "source": [
    "def sigmoid(z):\n",
    "    return 1/(1+torch.exp(-z))"
   ]
  },
  {
   "cell_type": "markdown",
   "id": "d74cfa0f",
   "metadata": {
    "hidden": true
   },
   "source": [
    "- logical regression model"
   ]
  },
  {
   "cell_type": "code",
   "execution_count": 5,
   "id": "ffddcfc1",
   "metadata": {
    "ExecuteTime": {
     "end_time": "2023-01-05T21:28:59.864462Z",
     "start_time": "2023-01-05T21:28:59.851280Z"
    },
    "hidden": true
   },
   "outputs": [],
   "source": [
    "def logistic(X, w):\n",
    "    return sigmoid(torch.mm(X, w))"
   ]
  },
  {
   "cell_type": "code",
   "execution_count": 6,
   "id": "0ffb7c99",
   "metadata": {
    "ExecuteTime": {
     "end_time": "2023-01-05T21:29:37.175123Z",
     "start_time": "2023-01-05T21:29:37.169532Z"
    },
    "hidden": true
   },
   "outputs": [],
   "source": [
    "def cal(sigma, p=0.5):\n",
    "    return((sigma >= p).float())"
   ]
  },
  {
   "cell_type": "code",
   "execution_count": 12,
   "id": "ec86ef71",
   "metadata": {
    "ExecuteTime": {
     "end_time": "2023-01-05T21:47:23.441351Z",
     "start_time": "2023-01-05T21:47:23.431919Z"
    },
    "hidden": true
   },
   "outputs": [],
   "source": [
    "def accuracy(sigma, y):\n",
    "    acc_bool = cal(sigma).flatten() == y.flatten()\n",
    "    acc = torch.mean(acc_bool.float())\n",
    "    return(acc)"
   ]
  },
  {
   "cell_type": "markdown",
   "id": "cf9ed1f7",
   "metadata": {
    "heading_collapsed": true,
    "hidden": true
   },
   "source": [
    "### loss function"
   ]
  },
  {
   "cell_type": "code",
   "execution_count": 8,
   "id": "bfd80bc9",
   "metadata": {
    "ExecuteTime": {
     "end_time": "2023-01-05T21:31:16.855668Z",
     "start_time": "2023-01-05T21:31:16.843617Z"
    },
    "hidden": true
   },
   "outputs": [],
   "source": [
    "def cross_entropy(sigma, y):\n",
    "    return(-(1/y.numel())*torch.sum((1-y)*torch.log(1-sigma)+y*torch.log(sigma)))"
   ]
  },
  {
   "cell_type": "markdown",
   "id": "2d38653a",
   "metadata": {
    "heading_collapsed": true,
    "hidden": true
   },
   "source": [
    "### optim"
   ]
  },
  {
   "cell_type": "code",
   "execution_count": 9,
   "id": "af5923a9",
   "metadata": {
    "ExecuteTime": {
     "end_time": "2023-01-05T21:32:05.568782Z",
     "start_time": "2023-01-05T21:32:05.565205Z"
    },
    "hidden": true
   },
   "outputs": [],
   "source": [
    "def sgd(params, lr):\n",
    "    params.data -= lr*params.grad\n",
    "    params.grad.zero_()"
   ]
  },
  {
   "cell_type": "markdown",
   "id": "150078ae",
   "metadata": {
    "heading_collapsed": true,
    "hidden": true
   },
   "source": [
    "### train"
   ]
  },
  {
   "cell_type": "code",
   "execution_count": 10,
   "id": "f322cdbc",
   "metadata": {
    "ExecuteTime": {
     "end_time": "2023-01-05T21:45:32.700302Z",
     "start_time": "2023-01-05T21:45:32.679534Z"
    },
    "hidden": true
   },
   "outputs": [],
   "source": [
    "def data_iter(batch_size, features, labels):\n",
    "    \"\"\"\n",
    "    数据切分函数\n",
    "\n",
    "    :param batch_size: 每个子数据集包含多少数据\n",
    "    :param featurs: 输入的特征张量\n",
    "    :param labels：输入的标签张量\n",
    "    :return l：包含batch_size个列表，每个列表切分后的特征和标签所组成\n",
    "    \"\"\"\n",
    "    num_examples = len(features)\n",
    "    indices = list(range(num_examples))\n",
    "    random.shuffle(indices)\n",
    "    l = []\n",
    "    for i in range(0, num_examples, batch_size):\n",
    "        j = torch.tensor(indices[i: min(i + batch_size, num_examples)])\n",
    "        l.append([torch.index_select(features, 0, j),\n",
    "                 torch.index_select(labels, 0, j)])\n",
    "    return l"
   ]
  },
  {
   "cell_type": "code",
   "execution_count": 13,
   "id": "d233aae7",
   "metadata": {
    "ExecuteTime": {
     "end_time": "2023-01-05T21:47:27.374210Z",
     "start_time": "2023-01-05T21:47:27.276874Z"
    },
    "hidden": true
   },
   "outputs": [
    {
     "name": "stdout",
     "output_type": "stream",
     "text": [
      "epoch 1, accuracy 0.914000\n",
      "epoch 2, accuracy 0.919000\n",
      "epoch 3, accuracy 0.913000\n"
     ]
    }
   ],
   "source": [
    "torch.manual_seed(420)\n",
    "\n",
    "batch_size = 10\n",
    "lr = 0.03\n",
    "num_epochs = 3\n",
    "w = torch.ones(3, 1, requires_grad=True)\n",
    "\n",
    "net = logistic\n",
    "loss = cross_entropy\n",
    "\n",
    "for epoch in range(num_epochs):\n",
    "    for X, y in data_iter(batch_size, features, labels):\n",
    "        l = loss(net(X, w), y)\n",
    "        l.backward()\n",
    "        sgd(w, l)\n",
    "    train_acc = accuracy(net(features, w), labels)\n",
    "    print('epoch %d, accuracy %f' % (epoch + 1, train_acc))"
   ]
  },
  {
   "cell_type": "markdown",
   "id": "a10d0fa5",
   "metadata": {
    "hidden": true
   },
   "source": [
    "### tune models"
   ]
  },
  {
   "cell_type": "code",
   "execution_count": 15,
   "id": "96ce2ab1",
   "metadata": {
    "ExecuteTime": {
     "end_time": "2023-01-05T21:52:25.046118Z",
     "start_time": "2023-01-05T21:52:20.077765Z"
    },
    "hidden": true
   },
   "outputs": [
    {
     "data": {
      "text/plain": [
       "[<matplotlib.lines.Line2D at 0x20fd0f6b160>]"
      ]
     },
     "execution_count": 15,
     "metadata": {},
     "output_type": "execute_result"
    },
    {
     "data": {
      "image/png": "[encoded data removed]",
      "text/plain": [
       "<Figure size 640x480 with 1 Axes>"
      ]
     },
     "metadata": {},
     "output_type": "display_data"
    }
   ],
   "source": [
    "torch.manual_seed(420)\n",
    "\n",
    "num_epochs = 20\n",
    "\n",
    "w = torch.ones(3, 1, requires_grad=True)\n",
    "\n",
    "train_acc = []\n",
    "\n",
    "for i in range(num_epochs):\n",
    "    for epoch in range(i):\n",
    "        for X, y in data_iter(batch_size, features, labels):\n",
    "            l = loss(net(X, w), y)\n",
    "            l.backward()\n",
    "            sgd(w, l)\n",
    "    train_acc.append(accuracy(net(features, w), labels))\n",
    "\n",
    "plt.plot(list(range(num_epochs)), train_acc)"
   ]
  },
  {
   "cell_type": "markdown",
   "id": "6de85f1d",
   "metadata": {},
   "source": [
    "## Using Pytoch"
   ]
  },
  {
   "cell_type": "code",
   "execution_count": 17,
   "id": "bf244afe",
   "metadata": {
    "ExecuteTime": {
     "end_time": "2023-01-05T22:04:05.501609Z",
     "start_time": "2023-01-05T22:04:05.383550Z"
    }
   },
   "outputs": [],
   "source": [
    "batch_size = 10\n",
    "lr = 0.03\n",
    "num_epochs = 3\n",
    "\n",
    "torch.manual_seed(420)\n",
    "\n",
    "features,labels = tensorGenCla(num_class=2)\n",
    "labels = labels.float()\n",
    "data = TensorDataset(features,labels)\n",
    "databatch = DataLoader(data,batch_size=batch_size,shuffle=True)\n",
    "\n",
    "\n",
    "class logisticR(nn.Module):\n",
    "    def __init__(self,in_features=2,out_features=1):\n",
    "        super(logisticR,self).__init__()\n",
    "        self.linear = nn.Linear(in_features,out_features)\n",
    "    def forward(self,x):\n",
    "        out = self.linear(x)\n",
    "        return out\n",
    "    \n",
    "logic_model = logisticR()\n",
    "criterion = nn.BCEWithLogitsLoss()\n",
    "optimizer = optim.SGD(logic_model.parameters(), lr=lr)\n",
    "\n",
    "def fit(net, criterion, optimizer,batchdata,epochs):\n",
    "    for epoch in range(epochs):\n",
    "        for X,y in batchdata:\n",
    "            zhat = net.forward(X)\n",
    "            loss = criterion(zhat,y)\n",
    "            optimizer.zero_grad()\n",
    "            loss.backward()\n",
    "            optimizer.step()\n",
    "            \n",
    "torch.manual_seed(420)\n",
    "\n",
    "fit(net=logic_model,\n",
    "   criterion=criterion,\n",
    "   optimizer=optimizer,\n",
    "   batchdata=databatch,\n",
    "   epochs=num_epochs)"
   ]
  },
  {
   "cell_type": "code",
   "execution_count": 18,
   "id": "eb9226b5",
   "metadata": {
    "ExecuteTime": {
     "end_time": "2023-01-05T22:05:06.362387Z",
     "start_time": "2023-01-05T22:05:06.349327Z"
    }
   },
   "outputs": [
    {
     "data": {
      "text/plain": [
       "tensor(0.9130)"
      ]
     },
     "execution_count": 18,
     "metadata": {},
     "output_type": "execute_result"
    }
   ],
   "source": [
    "def acc_zhat(zhat,y):\n",
    "    sigma = sigmoid(zhat)\n",
    "    return accuracy(sigma,y)\n",
    "\n",
    "acc_zhat(logic_model(features),labels)"
   ]
  },
  {
   "cell_type": "code",
   "execution_count": 19,
   "id": "2c71f70f",
   "metadata": {
    "ExecuteTime": {
     "end_time": "2023-01-05T22:05:18.112499Z",
     "start_time": "2023-01-05T22:05:18.104480Z"
    }
   },
   "outputs": [],
   "source": [
    "#创建数据\n",
    "torch.manual_seed(420)   \n",
    "\n",
    "features, labels = tensorGenCla(num_class=2)                     \n",
    "labels = labels.float()                           \n",
    "data = TensorDataset(features, labels)            \n",
    "batchData = DataLoader(data, batch_size = batch_size, shuffle = True)"
   ]
  },
  {
   "cell_type": "code",
   "execution_count": 20,
   "id": "2f093598",
   "metadata": {
    "ExecuteTime": {
     "end_time": "2023-01-05T22:05:29.393286Z",
     "start_time": "2023-01-05T22:05:22.970503Z"
    }
   },
   "outputs": [
    {
     "data": {
      "text/plain": [
       "[<matplotlib.lines.Line2D at 0x20fd79ae9d0>]"
      ]
     },
     "execution_count": 20,
     "metadata": {},
     "output_type": "execute_result"
    },
    {
     "data": {
      "image/png": "[encoded data removed]",
      "text/plain": [
       "<Figure size 640x480 with 1 Axes>"
      ]
     },
     "metadata": {},
     "output_type": "display_data"
    }
   ],
   "source": [
    "# 设置随机数种子\n",
    "torch.manual_seed(420)  \n",
    "\n",
    "# 初始化核心参数\n",
    "num_epochs = 20\n",
    "LR1 = logisticR()\n",
    "cr1 = nn.BCEWithLogitsLoss()\n",
    "op1 = optim.SGD(LR1.parameters(), lr = lr)\n",
    "\n",
    "# 创建列表容器\n",
    "train_acc = []\n",
    "\n",
    "# 执行建模\n",
    "for epochs in range(num_epochs):\n",
    "    fit(net = LR1, \n",
    "        criterion = cr1, \n",
    "        optimizer = op1, \n",
    "        batchdata = batchData, \n",
    "        epochs = epochs)\n",
    "    epoch_acc = acc_zhat(LR1(features), labels)\n",
    "    train_acc.append(epoch_acc)\n",
    "\n",
    "# 绘制图像查看准确率变化情况\n",
    "plt.plot(list(range(num_epochs)), train_acc)"
   ]
  },
  {
   "cell_type": "code",
   "execution_count": null,
   "id": "151f1dab",
   "metadata": {},
   "outputs": [],
   "source": []
  }
 ],
 "metadata": {
  "kernelspec": {
   "display_name": "Python 3 (ipykernel)",
   "language": "python",
   "name": "python3"
  },
  "language_info": {
   "codemirror_mode": {
    "name": "ipython",
    "version": 3
   },
   "file_extension": ".py",
   "mimetype": "text/x-python",
   "name": "python",
   "nbconvert_exporter": "python",
   "pygments_lexer": "ipython3",
   "version": "3.8.5"
  },
  "toc": {
   "base_numbering": 1,
   "nav_menu": {},
   "number_sections": true,
   "sideBar": true,
   "skip_h1_title": false,
   "title_cell": "Table of Contents",
   "title_sidebar": "Contents",
   "toc_cell": false,
   "toc_position": {},
   "toc_section_display": true,
   "toc_window_display": false
  },
  "varInspector": {
   "cols": {
    "lenName": 16,
    "lenType": 16,
    "lenVar": 40
   },
   "kernels_config": {
    "python": {
     "delete_cmd_postfix": "",
     "delete_cmd_prefix": "del ",
     "library": "var_list.py",
     "varRefreshCmd": "print(var_dic_list())"
    },
    "r": {
     "delete_cmd_postfix": ") ",
     "delete_cmd_prefix": "rm(",
     "library": "var_list.r",
     "varRefreshCmd": "cat(var_dic_list()) "
    }
   },
   "types_to_exclude": [
    "module",
    "function",
    "builtin_function_or_method",
    "instance",
    "_Feature"
   ],
   "window_display": false
  }
 },
 "nbformat": 4,
 "nbformat_minor": 5
}
