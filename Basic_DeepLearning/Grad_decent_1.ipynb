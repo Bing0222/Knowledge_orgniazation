{
 "cells": [
  {
   "cell_type": "code",
   "execution_count": 1,
   "id": "f7864a60",
   "metadata": {
    "ExecuteTime": {
     "end_time": "2023-01-03T19:43:45.474274Z",
     "start_time": "2023-01-03T19:43:45.468274Z"
    }
   },
   "outputs": [],
   "source": [
    "import torch\n",
    "import torch.nn as nn\n",
    "import torch.optim as optim\n",
    "from torch.nn import functional as F"
   ]
  },
  {
   "cell_type": "code",
   "execution_count": 2,
   "id": "55aa99e1",
   "metadata": {
    "ExecuteTime": {
     "end_time": "2023-01-03T19:44:03.207603Z",
     "start_time": "2023-01-03T19:44:03.189592Z"
    }
   },
   "outputs": [],
   "source": [
    "lr = 0.01\n",
    "gamma = 0.9"
   ]
  },
  {
   "cell_type": "code",
   "execution_count": 4,
   "id": "dc81e32d",
   "metadata": {
    "ExecuteTime": {
     "end_time": "2023-01-03T19:47:11.788244Z",
     "start_time": "2023-01-03T19:47:11.754718Z"
    }
   },
   "outputs": [],
   "source": [
    "torch.manual_seed(420)\n",
    "x = torch.rand((500,20),dtype=torch.float32) * 100\n",
    "y = torch.randint(low=0,high=3,size=(500,1),dtype=torch.float32)\n",
    "\n",
    "input_ = x.shape[1]\n",
    "output_ = len(y.unique())"
   ]
  },
  {
   "cell_type": "code",
   "execution_count": 5,
   "id": "8d092aba",
   "metadata": {
    "ExecuteTime": {
     "end_time": "2023-01-03T22:23:54.659652Z",
     "start_time": "2023-01-03T22:23:54.645652Z"
    }
   },
   "outputs": [],
   "source": [
    "class Model(nn.Module):\n",
    "    def __init__(self, in_features=10, out_features=2):\n",
    "        super(Model,self).__init__()\n",
    "        self.linear1 = nn.Linear(in_features,13,bias=True)\n",
    "        self.linear2 = nn.Linear(13,8,bias=True)\n",
    "        self.output = nn.Linear(8,out_features,bias=True)\n",
    "        \n",
    "    def forward(self,x):\n",
    "        z1 = self.linear1(x)\n",
    "        sigma1 = torch.relu(z1)\n",
    "        z2 = self.linear2(sigma1)\n",
    "        sigma2 = torch.sigmoid(z2)\n",
    "        z3 = self.output(sigma2)\n",
    "        return z3"
   ]
  },
  {
   "cell_type": "code",
   "execution_count": 7,
   "id": "0d0c44e4",
   "metadata": {
    "ExecuteTime": {
     "end_time": "2023-01-03T22:25:21.747881Z",
     "start_time": "2023-01-03T22:25:21.740881Z"
    }
   },
   "outputs": [],
   "source": [
    "torch.manual_seed(420)\n",
    "net = Model(in_features=input_,out_features=output_)\n",
    "net.parameters()\n",
    "\n",
    "criterion = nn.CrossEntropyLoss()\n",
    "\n",
    "opt = optim.SGD(net.parameters(),lr=lr,momentum=gamma)"
   ]
  },
  {
   "cell_type": "code",
   "execution_count": 8,
   "id": "42abf7a0",
   "metadata": {
    "ExecuteTime": {
     "end_time": "2023-01-03T22:26:16.947442Z",
     "start_time": "2023-01-03T22:26:16.917443Z"
    }
   },
   "outputs": [
    {
     "ename": "TypeError",
     "evalue": "forward() missing 1 required positional argument: 'x'",
     "output_type": "error",
     "traceback": [
      "\u001b[1;31m---------------------------------------------------------------------------\u001b[0m",
      "\u001b[1;31mTypeError\u001b[0m                                 Traceback (most recent call last)",
      "Input \u001b[1;32mIn [8]\u001b[0m, in \u001b[0;36m<cell line: 1>\u001b[1;34m()\u001b[0m\n\u001b[1;32m----> 1\u001b[0m zhat \u001b[38;5;241m=\u001b[39m \u001b[43mnet\u001b[49m\u001b[38;5;241;43m.\u001b[39;49m\u001b[43mforward\u001b[49m\u001b[43m(\u001b[49m\u001b[43m)\u001b[49m\n\u001b[0;32m      2\u001b[0m loss \u001b[38;5;241m=\u001b[39m criterion(zhat,y\u001b[38;5;241m.\u001b[39mreshape(\u001b[38;5;241m500\u001b[39m)\u001b[38;5;241m.\u001b[39mlong())\n\u001b[0;32m      3\u001b[0m loss\u001b[38;5;241m.\u001b[39mbackward()\n",
      "\u001b[1;31mTypeError\u001b[0m: forward() missing 1 required positional argument: 'x'"
     ]
    }
   ],
   "source": [
    "zhat = net.forward(x)\n",
    "loss = criterion(zhat,y.reshape(500).long())\n",
    "loss.backward()\n",
    "opt.step()\n",
    "opt.zero_grad()"
   ]
  },
  {
   "cell_type": "code",
   "execution_count": null,
   "id": "b84c3f01",
   "metadata": {},
   "outputs": [],
   "source": []
  }
 ],
 "metadata": {
  "kernelspec": {
   "display_name": "Python 3 (ipykernel)",
   "language": "python",
   "name": "python3"
  },
  "language_info": {
   "codemirror_mode": {
    "name": "ipython",
    "version": 3
   },
   "file_extension": ".py",
   "mimetype": "text/x-python",
   "name": "python",
   "nbconvert_exporter": "python",
   "pygments_lexer": "ipython3",
   "version": "3.8.5"
  },
  "toc": {
   "base_numbering": 1,
   "nav_menu": {},
   "number_sections": true,
   "sideBar": true,
   "skip_h1_title": false,
   "title_cell": "Table of Contents",
   "title_sidebar": "Contents",
   "toc_cell": false,
   "toc_position": {},
   "toc_section_display": true,
   "toc_window_display": false
  },
  "varInspector": {
   "cols": {
    "lenName": 16,
    "lenType": 16,
    "lenVar": 40
   },
   "kernels_config": {
    "python": {
     "delete_cmd_postfix": "",
     "delete_cmd_prefix": "del ",
     "library": "var_list.py",
     "varRefreshCmd": "print(var_dic_list())"
    },
    "r": {
     "delete_cmd_postfix": ") ",
     "delete_cmd_prefix": "rm(",
     "library": "var_list.r",
     "varRefreshCmd": "cat(var_dic_list()) "
    }
   },
   "types_to_exclude": [
    "module",
    "function",
    "builtin_function_or_method",
    "instance",
    "_Feature"
   ],
   "window_display": false
  }
 },
 "nbformat": 4,
 "nbformat_minor": 5
}
