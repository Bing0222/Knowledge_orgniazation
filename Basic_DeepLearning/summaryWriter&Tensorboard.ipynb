{
 "cells": [
  {
   "cell_type": "code",
   "execution_count": 1,
   "id": "e8a0173b",
   "metadata": {
    "ExecuteTime": {
     "end_time": "2023-01-05T18:05:08.346525Z",
     "start_time": "2023-01-05T18:05:08.335485Z"
    }
   },
   "outputs": [],
   "source": [
    "from torch.utils.tensorboard import SummaryWriter"
   ]
  },
  {
   "cell_type": "code",
   "execution_count": 2,
   "id": "442377ad",
   "metadata": {
    "ExecuteTime": {
     "end_time": "2023-01-05T18:05:44.521388Z",
     "start_time": "2023-01-05T18:05:44.506848Z"
    }
   },
   "outputs": [],
   "source": [
    "write = SummaryWriter(log_dir='test')"
   ]
  },
  {
   "cell_type": "code",
   "execution_count": 3,
   "id": "55aeaab2",
   "metadata": {
    "ExecuteTime": {
     "end_time": "2023-01-05T18:05:52.518523Z",
     "start_time": "2023-01-05T18:05:52.504977Z"
    }
   },
   "outputs": [
    {
     "data": {
      "text/plain": [
       "'test'"
      ]
     },
     "execution_count": 3,
     "metadata": {},
     "output_type": "execute_result"
    }
   ],
   "source": [
    "write.log_dir"
   ]
  },
  {
   "cell_type": "code",
   "execution_count": 4,
   "id": "37aab794",
   "metadata": {
    "ExecuteTime": {
     "end_time": "2023-01-05T18:06:31.192429Z",
     "start_time": "2023-01-05T18:06:31.182915Z"
    }
   },
   "outputs": [],
   "source": [
    "# write\n",
    "for i in range(10):\n",
    "    write.add_scalar('mul',i*i,i)"
   ]
  },
  {
   "cell_type": "code",
   "execution_count": null,
   "id": "2bc47412",
   "metadata": {},
   "outputs": [],
   "source": []
  }
 ],
 "metadata": {
  "kernelspec": {
   "display_name": "Python 3 (ipykernel)",
   "language": "python",
   "name": "python3"
  },
  "language_info": {
   "codemirror_mode": {
    "name": "ipython",
    "version": 3
   },
   "file_extension": ".py",
   "mimetype": "text/x-python",
   "name": "python",
   "nbconvert_exporter": "python",
   "pygments_lexer": "ipython3",
   "version": "3.8.5"
  },
  "toc": {
   "base_numbering": 1,
   "nav_menu": {},
   "number_sections": true,
   "sideBar": true,
   "skip_h1_title": false,
   "title_cell": "Table of Contents",
   "title_sidebar": "Contents",
   "toc_cell": false,
   "toc_position": {},
   "toc_section_display": true,
   "toc_window_display": false
  },
  "varInspector": {
   "cols": {
    "lenName": 16,
    "lenType": 16,
    "lenVar": 40
   },
   "kernels_config": {
    "python": {
     "delete_cmd_postfix": "",
     "delete_cmd_prefix": "del ",
     "library": "var_list.py",
     "varRefreshCmd": "print(var_dic_list())"
    },
    "r": {
     "delete_cmd_postfix": ") ",
     "delete_cmd_prefix": "rm(",
     "library": "var_list.r",
     "varRefreshCmd": "cat(var_dic_list()) "
    }
   },
   "types_to_exclude": [
    "module",
    "function",
    "builtin_function_or_method",
    "instance",
    "_Feature"
   ],
   "window_display": false
  }
 },
 "nbformat": 4,
 "nbformat_minor": 5
}
