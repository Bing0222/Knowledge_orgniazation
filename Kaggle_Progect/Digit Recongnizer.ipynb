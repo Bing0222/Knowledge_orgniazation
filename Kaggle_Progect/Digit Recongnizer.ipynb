{
 "cells": [
  {
   "cell_type": "markdown",
   "id": "44f02600",
   "metadata": {},
   "source": [
    "# 1. Kaggle Digit Recongnizer"
   ]
  },
  {
   "cell_type": "markdown",
   "id": "8ebce3fb",
   "metadata": {},
   "source": [
    "Using Pytorch identifies MNISTdataset.  \n",
    "Dataset from kaggle"
   ]
  },
  {
   "cell_type": "markdown",
   "id": "fa6f6eaa",
   "metadata": {},
   "source": [
    "## Import Libraries"
   ]
  },
  {
   "cell_type": "code",
   "execution_count": 1,
   "id": "d9123b89",
   "metadata": {
    "ExecuteTime": {
     "end_time": "2023-01-12T19:36:06.839032Z",
     "start_time": "2023-01-12T19:36:03.452355Z"
    }
   },
   "outputs": [],
   "source": [
    "import os\n",
    "\n",
    "import numpy as np\n",
    "import pandas as pd\n",
    "import matplotlib.pyplot as plt\n",
    "\n",
    "import torch\n",
    "import torch.nn as nn\n",
    "from torch import optim\n",
    "import torch.nn.functional as F\n",
    "from torchvision import transforms, models\n",
    "from torch.utils.data import Dataset, DataLoader, TensorDataset\n",
    "\n",
    "from sklearn.model_selection import train_test_split"
   ]
  },
  {
   "cell_type": "markdown",
   "id": "7cf86ebc",
   "metadata": {},
   "source": [
    "## Import Data"
   ]
  },
  {
   "cell_type": "code",
   "execution_count": 2,
   "id": "e9c7a0ec",
   "metadata": {
    "ExecuteTime": {
     "end_time": "2023-01-12T19:36:08.962598Z",
     "start_time": "2023-01-12T19:36:08.944551Z"
    }
   },
   "outputs": [
    {
     "name": "stdout",
     "output_type": "stream",
     "text": [
      "['sample_submission.csv', 'test.csv', 'train.csv']\n"
     ]
    }
   ],
   "source": [
    "print(os.listdir(r\"E:\\data\\digit_recognizer\"))"
   ]
  },
  {
   "cell_type": "code",
   "execution_count": 3,
   "id": "bb995984",
   "metadata": {
    "ExecuteTime": {
     "end_time": "2023-01-12T19:36:13.305634Z",
     "start_time": "2023-01-12T19:36:09.603784Z"
    }
   },
   "outputs": [
    {
     "data": {
      "text/plain": [
       "0    1.0\n",
       "1    0.0\n",
       "2    1.0\n",
       "3    4.0\n",
       "4    0.0\n",
       "Name: label, dtype: float32"
      ]
     },
     "execution_count": 3,
     "metadata": {},
     "output_type": "execute_result"
    }
   ],
   "source": [
    "train = pd.read_csv(r\"E:/data/digit_recognizer/train.csv\", dtype=np.float32)\n",
    "test = pd.read_csv(r\"E:/data/digit_recognizer/test.csv\", dtype=np.float32)\n",
    "sample_sub = pd.read_csv(r\"E:/data/digit_recognizer/sample_submission.csv\")\n",
    "train.label.head()"
   ]
  },
  {
   "cell_type": "code",
   "execution_count": 4,
   "id": "6965ec61",
   "metadata": {
    "ExecuteTime": {
     "end_time": "2023-01-12T19:36:16.453662Z",
     "start_time": "2023-01-12T19:36:16.425593Z"
    }
   },
   "outputs": [
    {
     "name": "stdout",
     "output_type": "stream",
     "text": [
      "<class 'pandas.core.frame.DataFrame'>\n",
      "RangeIndex: 42000 entries, 0 to 41999\n",
      "Columns: 785 entries, label to pixel783\n",
      "dtypes: float32(785)\n",
      "memory usage: 125.8 MB\n"
     ]
    }
   ],
   "source": [
    "train.info()"
   ]
  },
  {
   "cell_type": "markdown",
   "id": "543fb669",
   "metadata": {},
   "source": [
    "## Preparing Dataset"
   ]
  },
  {
   "cell_type": "markdown",
   "id": "1323567a",
   "metadata": {},
   "source": [
    "Because of type of dataset from .csv, we should transform to prepared Tensor(image).\n",
    "- we get raw data and want to split train dataset and test date. Before split images dataset, we should Normalization dataset(0-255 -> 0-1).\n",
    "- splited dataset transform to Tensor and loader Tensor.\n",
    "\n",
    "*Because we using Normalization, we do not using transforms to enhance data*"
   ]
  },
  {
   "cell_type": "code",
   "execution_count": 5,
   "id": "ab62bffa",
   "metadata": {
    "ExecuteTime": {
     "end_time": "2023-01-12T19:36:18.572933Z",
     "start_time": "2023-01-12T19:36:17.956661Z"
    }
   },
   "outputs": [],
   "source": [
    "target_np = train.label.values\n",
    "features_np = train.loc[:, train.columns != 'label'].values/255\n",
    "\n",
    "features_train, features_test, target_train, target_test = train_test_split(\n",
    "    features_np, target_np, test_size=0.2, random_state=42)"
   ]
  },
  {
   "cell_type": "code",
   "execution_count": 6,
   "id": "0983c3a1",
   "metadata": {
    "ExecuteTime": {
     "end_time": "2023-01-12T19:36:19.494821Z",
     "start_time": "2023-01-12T19:36:19.470474Z"
    }
   },
   "outputs": [],
   "source": [
    "featuresTrain = torch.from_numpy(features_train)\n",
    "targetTrain = torch.from_numpy(target_train).type(torch.LongTensor)\n",
    "\n",
    "featuresTest = torch.from_numpy(features_test)\n",
    "targetsTest = torch.from_numpy(target_test).type(torch.LongTensor)"
   ]
  },
  {
   "cell_type": "code",
   "execution_count": 7,
   "id": "4a759781",
   "metadata": {
    "ExecuteTime": {
     "end_time": "2023-01-12T19:36:20.769882Z",
     "start_time": "2023-01-12T19:36:20.752057Z"
    }
   },
   "outputs": [],
   "source": [
    "batch_size = 32\n",
    "\n",
    "train = TensorDataset(featuresTrain, targetTrain)\n",
    "test = TensorDataset(featuresTest, targetsTest)\n",
    "\n",
    "train_loader = DataLoader(train, batch_size=batch_size, shuffle=True)\n",
    "test_loader = DataLoader(test, batch_size=batch_size, shuffle=True)"
   ]
  },
  {
   "cell_type": "code",
   "execution_count": 8,
   "id": "632b8dd1",
   "metadata": {
    "ExecuteTime": {
     "end_time": "2023-01-12T19:36:24.657656Z",
     "start_time": "2023-01-12T19:36:24.568719Z"
    }
   },
   "outputs": [
    {
     "data": {
      "image/png": "[encoded data removed]",
      "text/plain": [
       "<Figure size 640x480 with 1 Axes>"
      ]
     },
     "metadata": {},
     "output_type": "display_data"
    }
   ],
   "source": [
    "# show data\n",
    "def visualize_image(data, index, pred=False, val=0):\n",
    "    plt.imshow(data[index].reshape(28, 28))\n",
    "    plt.axis('off')\n",
    "    plt.title(\"Digit Image\")\n",
    "    plt.show()\n",
    "\n",
    "\n",
    "visualize_image(features_np, 12)"
   ]
  },
  {
   "cell_type": "markdown",
   "id": "197d37e8",
   "metadata": {},
   "source": [
    "## Define Network Architecture"
   ]
  },
  {
   "cell_type": "markdown",
   "id": "8724525f",
   "metadata": {},
   "source": [
    "- Pytorch provides some classic architecture, but MNISTdata is too simple we select to build a simple neural networks *Since building a neural networks by self, we do not build a network the layer over 6*.\n",
    "- Because it is a 10 classes, we final layer using softmax."
   ]
  },
  {
   "cell_type": "code",
   "execution_count": 9,
   "id": "3bee1e71",
   "metadata": {
    "ExecuteTime": {
     "end_time": "2023-01-12T19:36:26.302486Z",
     "start_time": "2023-01-12T19:36:26.285883Z"
    }
   },
   "outputs": [],
   "source": [
    "class Classifier(nn.Module):\n",
    "    def __init__(self):\n",
    "        super(Classifier, self).__init__()\n",
    "        self.fc1 = nn.Linear(28*28, 512)\n",
    "        self.fc2 = nn.Linear(512, 256)\n",
    "        self.fc3 = nn.Linear(256, 128)\n",
    "        self.fc4 = nn.Linear(128, 64)\n",
    "        self.fc5 = nn.Linear(64, 10)\n",
    "\n",
    "        self.dropout = nn.Dropout(p=0.2)\n",
    "        self.log_softmax = F.log_softmax\n",
    "\n",
    "    def forward(self, x):\n",
    "        x = self.dropout(F.relu(self.fc1(x)))\n",
    "        x = self.dropout(F.relu(self.fc2(x)))\n",
    "        x = self.dropout(F.relu(self.fc3(x)))\n",
    "        x = self.dropout(F.relu(self.fc4(x)))\n",
    "        out = self.log_softmax(self.fc5(x), dim=1)\n",
    "        return out"
   ]
  },
  {
   "cell_type": "markdown",
   "id": "b0521a00",
   "metadata": {},
   "source": [
    "## Train and Validation"
   ]
  },
  {
   "cell_type": "markdown",
   "id": "7c4c4084",
   "metadata": {},
   "source": [
    "- Define some keys(criterion and optimizer) and some arguments\n",
    "- Some basic steps for training model\n",
    "  - make a forward pass through the network\n",
    "  - calculate the loss\n",
    "  - backward pass get gradients (loss.backward)\n",
    "  - step the optimizer and update weights"
   ]
  },
  {
   "cell_type": "code",
   "execution_count": 10,
   "id": "965b59a1",
   "metadata": {
    "ExecuteTime": {
     "end_time": "2023-01-12T19:36:28.449594Z",
     "start_time": "2023-01-12T19:36:28.429388Z"
    }
   },
   "outputs": [],
   "source": [
    "model = Classifier()\n",
    "criterion = nn.NLLLoss()\n",
    "optimizer = optim.Adam(model.parameters(), lr=0.0015)\n",
    "\n",
    "epochs = 5\n",
    "steps = 0\n",
    "print_every = 50\n",
    "train_losses, test_losses = [], []"
   ]
  },
  {
   "cell_type": "code",
   "execution_count": 11,
   "id": "60164ffa",
   "metadata": {
    "ExecuteTime": {
     "end_time": "2023-01-12T19:37:37.364018Z",
     "start_time": "2023-01-12T19:36:29.599837Z"
    }
   },
   "outputs": [
    {
     "name": "stdout",
     "output_type": "stream",
     "text": [
      "Epoch: 1/5..  Training Loss: 0.077..  Test Loss: 0.786..  Test Accuracy: 0.730\n",
      "Epoch: 1/5..  Training Loss: 0.112..  Test Loss: 0.549..  Test Accuracy: 0.834\n",
      "Epoch: 1/5..  Training Loss: 0.139..  Test Loss: 0.440..  Test Accuracy: 0.866\n",
      "Epoch: 1/5..  Training Loss: 0.161..  Test Loss: 0.372..  Test Accuracy: 0.893\n",
      "Epoch: 1/5..  Training Loss: 0.182..  Test Loss: 0.379..  Test Accuracy: 0.888\n",
      "Epoch: 1/5..  Training Loss: 0.201..  Test Loss: 0.327..  Test Accuracy: 0.905\n",
      "Epoch: 1/5..  Training Loss: 0.217..  Test Loss: 0.296..  Test Accuracy: 0.914\n",
      "Epoch: 1/5..  Training Loss: 0.236..  Test Loss: 0.289..  Test Accuracy: 0.916\n",
      "Epoch: 1/5..  Training Loss: 0.251..  Test Loss: 0.255..  Test Accuracy: 0.924\n",
      "Epoch: 1/5..  Training Loss: 0.267..  Test Loss: 0.267..  Test Accuracy: 0.926\n",
      "Epoch: 1/5..  Training Loss: 0.282..  Test Loss: 0.241..  Test Accuracy: 0.934\n",
      "Epoch: 1/5..  Training Loss: 0.293..  Test Loss: 0.286..  Test Accuracy: 0.917\n",
      "Epoch: 1/5..  Training Loss: 0.306..  Test Loss: 0.216..  Test Accuracy: 0.936\n",
      "Epoch: 1/5..  Training Loss: 0.318..  Test Loss: 0.222..  Test Accuracy: 0.935\n",
      "Epoch: 1/5..  Training Loss: 0.330..  Test Loss: 0.188..  Test Accuracy: 0.944\n",
      "Epoch: 1/5..  Training Loss: 0.342..  Test Loss: 0.201..  Test Accuracy: 0.943\n",
      "Epoch: 1/5..  Training Loss: 0.353..  Test Loss: 0.201..  Test Accuracy: 0.943\n",
      "Epoch: 1/5..  Training Loss: 0.365..  Test Loss: 0.174..  Test Accuracy: 0.949\n",
      "Epoch: 1/5..  Training Loss: 0.377..  Test Loss: 0.198..  Test Accuracy: 0.946\n",
      "Epoch: 1/5..  Training Loss: 0.388..  Test Loss: 0.158..  Test Accuracy: 0.956\n",
      "Epoch: 1/5..  Training Loss: 0.399..  Test Loss: 0.181..  Test Accuracy: 0.946\n",
      "Epoch: 2/5..  Training Loss: 0.009..  Test Loss: 0.172..  Test Accuracy: 0.951\n",
      "Epoch: 2/5..  Training Loss: 0.020..  Test Loss: 0.183..  Test Accuracy: 0.948\n",
      "Epoch: 2/5..  Training Loss: 0.030..  Test Loss: 0.166..  Test Accuracy: 0.953\n",
      "Epoch: 2/5..  Training Loss: 0.037..  Test Loss: 0.176..  Test Accuracy: 0.952\n",
      "Epoch: 2/5..  Training Loss: 0.045..  Test Loss: 0.153..  Test Accuracy: 0.958\n",
      "Epoch: 2/5..  Training Loss: 0.053..  Test Loss: 0.172..  Test Accuracy: 0.952\n",
      "Epoch: 2/5..  Training Loss: 0.061..  Test Loss: 0.177..  Test Accuracy: 0.948\n",
      "Epoch: 2/5..  Training Loss: 0.070..  Test Loss: 0.159..  Test Accuracy: 0.953\n",
      "Epoch: 2/5..  Training Loss: 0.080..  Test Loss: 0.156..  Test Accuracy: 0.955\n",
      "Epoch: 2/5..  Training Loss: 0.089..  Test Loss: 0.144..  Test Accuracy: 0.959\n",
      "Epoch: 2/5..  Training Loss: 0.098..  Test Loss: 0.147..  Test Accuracy: 0.958\n",
      "Epoch: 2/5..  Training Loss: 0.106..  Test Loss: 0.153..  Test Accuracy: 0.954\n",
      "Epoch: 2/5..  Training Loss: 0.114..  Test Loss: 0.160..  Test Accuracy: 0.953\n",
      "Epoch: 2/5..  Training Loss: 0.122..  Test Loss: 0.148..  Test Accuracy: 0.959\n",
      "Epoch: 2/5..  Training Loss: 0.131..  Test Loss: 0.151..  Test Accuracy: 0.956\n",
      "Epoch: 2/5..  Training Loss: 0.140..  Test Loss: 0.141..  Test Accuracy: 0.958\n",
      "Epoch: 2/5..  Training Loss: 0.149..  Test Loss: 0.138..  Test Accuracy: 0.962\n",
      "Epoch: 2/5..  Training Loss: 0.159..  Test Loss: 0.158..  Test Accuracy: 0.957\n",
      "Epoch: 2/5..  Training Loss: 0.165..  Test Loss: 0.183..  Test Accuracy: 0.950\n",
      "Epoch: 2/5..  Training Loss: 0.176..  Test Loss: 0.139..  Test Accuracy: 0.962\n",
      "Epoch: 2/5..  Training Loss: 0.184..  Test Loss: 0.134..  Test Accuracy: 0.963\n",
      "Epoch: 3/5..  Training Loss: 0.006..  Test Loss: 0.155..  Test Accuracy: 0.956\n",
      "Epoch: 3/5..  Training Loss: 0.013..  Test Loss: 0.143..  Test Accuracy: 0.961\n",
      "Epoch: 3/5..  Training Loss: 0.020..  Test Loss: 0.122..  Test Accuracy: 0.965\n",
      "Epoch: 3/5..  Training Loss: 0.026..  Test Loss: 0.125..  Test Accuracy: 0.965\n",
      "Epoch: 3/5..  Training Loss: 0.033..  Test Loss: 0.131..  Test Accuracy: 0.964\n",
      "Epoch: 3/5..  Training Loss: 0.040..  Test Loss: 0.125..  Test Accuracy: 0.964\n",
      "Epoch: 3/5..  Training Loss: 0.045..  Test Loss: 0.124..  Test Accuracy: 0.965\n",
      "Epoch: 3/5..  Training Loss: 0.053..  Test Loss: 0.131..  Test Accuracy: 0.963\n",
      "Epoch: 3/5..  Training Loss: 0.060..  Test Loss: 0.131..  Test Accuracy: 0.961\n",
      "Epoch: 3/5..  Training Loss: 0.067..  Test Loss: 0.128..  Test Accuracy: 0.966\n",
      "Epoch: 3/5..  Training Loss: 0.073..  Test Loss: 0.216..  Test Accuracy: 0.942\n",
      "Epoch: 3/5..  Training Loss: 0.079..  Test Loss: 0.136..  Test Accuracy: 0.964\n",
      "Epoch: 3/5..  Training Loss: 0.085..  Test Loss: 0.145..  Test Accuracy: 0.961\n",
      "Epoch: 3/5..  Training Loss: 0.092..  Test Loss: 0.137..  Test Accuracy: 0.963\n",
      "Epoch: 3/5..  Training Loss: 0.098..  Test Loss: 0.143..  Test Accuracy: 0.961\n",
      "Epoch: 3/5..  Training Loss: 0.107..  Test Loss: 0.142..  Test Accuracy: 0.962\n",
      "Epoch: 3/5..  Training Loss: 0.115..  Test Loss: 0.132..  Test Accuracy: 0.962\n",
      "Epoch: 3/5..  Training Loss: 0.121..  Test Loss: 0.115..  Test Accuracy: 0.968\n",
      "Epoch: 3/5..  Training Loss: 0.128..  Test Loss: 0.161..  Test Accuracy: 0.955\n",
      "Epoch: 3/5..  Training Loss: 0.134..  Test Loss: 0.130..  Test Accuracy: 0.965\n",
      "Epoch: 3/5..  Training Loss: 0.139..  Test Loss: 0.141..  Test Accuracy: 0.965\n",
      "Epoch: 4/5..  Training Loss: 0.007..  Test Loss: 0.159..  Test Accuracy: 0.960\n",
      "Epoch: 4/5..  Training Loss: 0.013..  Test Loss: 0.134..  Test Accuracy: 0.966\n",
      "Epoch: 4/5..  Training Loss: 0.019..  Test Loss: 0.141..  Test Accuracy: 0.965\n",
      "Epoch: 4/5..  Training Loss: 0.024..  Test Loss: 0.124..  Test Accuracy: 0.966\n",
      "Epoch: 4/5..  Training Loss: 0.029..  Test Loss: 0.118..  Test Accuracy: 0.969\n",
      "Epoch: 4/5..  Training Loss: 0.036..  Test Loss: 0.140..  Test Accuracy: 0.964\n",
      "Epoch: 4/5..  Training Loss: 0.041..  Test Loss: 0.144..  Test Accuracy: 0.959\n",
      "Epoch: 4/5..  Training Loss: 0.048..  Test Loss: 0.125..  Test Accuracy: 0.964\n",
      "Epoch: 4/5..  Training Loss: 0.053..  Test Loss: 0.130..  Test Accuracy: 0.965\n",
      "Epoch: 4/5..  Training Loss: 0.058..  Test Loss: 0.129..  Test Accuracy: 0.966\n",
      "Epoch: 4/5..  Training Loss: 0.063..  Test Loss: 0.118..  Test Accuracy: 0.968\n",
      "Epoch: 4/5..  Training Loss: 0.069..  Test Loss: 0.116..  Test Accuracy: 0.969\n",
      "Epoch: 4/5..  Training Loss: 0.075..  Test Loss: 0.123..  Test Accuracy: 0.968\n",
      "Epoch: 4/5..  Training Loss: 0.079..  Test Loss: 0.143..  Test Accuracy: 0.962\n",
      "Epoch: 4/5..  Training Loss: 0.084..  Test Loss: 0.119..  Test Accuracy: 0.969\n",
      "Epoch: 4/5..  Training Loss: 0.089..  Test Loss: 0.137..  Test Accuracy: 0.965\n",
      "Epoch: 4/5..  Training Loss: 0.095..  Test Loss: 0.115..  Test Accuracy: 0.967\n",
      "Epoch: 4/5..  Training Loss: 0.101..  Test Loss: 0.117..  Test Accuracy: 0.968\n",
      "Epoch: 4/5..  Training Loss: 0.106..  Test Loss: 0.106..  Test Accuracy: 0.969\n",
      "Epoch: 4/5..  Training Loss: 0.112..  Test Loss: 0.114..  Test Accuracy: 0.969\n",
      "Epoch: 4/5..  Training Loss: 0.118..  Test Loss: 0.131..  Test Accuracy: 0.965\n",
      "Epoch: 5/5..  Training Loss: 0.005..  Test Loss: 0.103..  Test Accuracy: 0.971\n",
      "Epoch: 5/5..  Training Loss: 0.010..  Test Loss: 0.132..  Test Accuracy: 0.965\n",
      "Epoch: 5/5..  Training Loss: 0.013..  Test Loss: 0.120..  Test Accuracy: 0.969\n",
      "Epoch: 5/5..  Training Loss: 0.018..  Test Loss: 0.109..  Test Accuracy: 0.970\n",
      "Epoch: 5/5..  Training Loss: 0.024..  Test Loss: 0.133..  Test Accuracy: 0.964\n",
      "Epoch: 5/5..  Training Loss: 0.029..  Test Loss: 0.113..  Test Accuracy: 0.971\n",
      "Epoch: 5/5..  Training Loss: 0.032..  Test Loss: 0.111..  Test Accuracy: 0.971\n",
      "Epoch: 5/5..  Training Loss: 0.036..  Test Loss: 0.130..  Test Accuracy: 0.971\n",
      "Epoch: 5/5..  Training Loss: 0.040..  Test Loss: 0.126..  Test Accuracy: 0.972\n",
      "Epoch: 5/5..  Training Loss: 0.045..  Test Loss: 0.111..  Test Accuracy: 0.971\n",
      "Epoch: 5/5..  Training Loss: 0.049..  Test Loss: 0.132..  Test Accuracy: 0.967\n",
      "Epoch: 5/5..  Training Loss: 0.054..  Test Loss: 0.143..  Test Accuracy: 0.966\n",
      "Epoch: 5/5..  Training Loss: 0.059..  Test Loss: 0.134..  Test Accuracy: 0.964\n",
      "Epoch: 5/5..  Training Loss: 0.064..  Test Loss: 0.158..  Test Accuracy: 0.960\n",
      "Epoch: 5/5..  Training Loss: 0.071..  Test Loss: 0.101..  Test Accuracy: 0.971\n",
      "Epoch: 5/5..  Training Loss: 0.075..  Test Loss: 0.116..  Test Accuracy: 0.970\n",
      "Epoch: 5/5..  Training Loss: 0.080..  Test Loss: 0.111..  Test Accuracy: 0.972\n",
      "Epoch: 5/5..  Training Loss: 0.085..  Test Loss: 0.129..  Test Accuracy: 0.965\n",
      "Epoch: 5/5..  Training Loss: 0.092..  Test Loss: 0.128..  Test Accuracy: 0.967\n",
      "Epoch: 5/5..  Training Loss: 0.098..  Test Loss: 0.112..  Test Accuracy: 0.973\n"
     ]
    },
    {
     "name": "stdout",
     "output_type": "stream",
     "text": [
      "Epoch: 5/5..  Training Loss: 0.102..  Test Loss: 0.116..  Test Accuracy: 0.972\n"
     ]
    }
   ],
   "source": [
    "for epoch in range(epochs):\n",
    "    running_loss = 0\n",
    "    for img, labels in train_loader:\n",
    "        steps += 1\n",
    "        optimizer.zero_grad()\n",
    "        yhat = model(img)\n",
    "        loss = criterion(yhat, labels)\n",
    "        loss.backward()\n",
    "        optimizer.step()\n",
    "\n",
    "        running_loss += loss.item()\n",
    "        if steps % print_every == 0:\n",
    "            test_loss = 0\n",
    "            accuracy = 0\n",
    "            with torch.no_grad():\n",
    "                model.eval()\n",
    "                for img, labels in test_loader:\n",
    "                    yhat = model(img)\n",
    "                    test_loss += criterion(yhat, labels)\n",
    "                    temp_yhat = torch.exp(yhat)\n",
    "                    top_p, top_class = temp_yhat.topk(1, dim=1)\n",
    "                    equals = top_class == labels.view(*top_class.shape)\n",
    "                    accuracy += torch.mean(equals.type(torch.FloatTensor))\n",
    "\n",
    "            model.train()\n",
    "\n",
    "            train_losses.append(running_loss/len(train_loader))\n",
    "            test_losses.append(test_loss/len(test_loader))\n",
    "\n",
    "            print(\"Epoch: {}/{}.. \".format(epoch+1, epochs),\n",
    "                  \"Training Loss: {:.3f}.. \".format(train_losses[-1]),\n",
    "                  \"Test Loss: {:.3f}.. \".format(test_losses[-1]),\n",
    "                  \"Test Accuracy: {:.3f}\".format(accuracy/len(test_loader)))"
   ]
  },
  {
   "cell_type": "code",
   "execution_count": 12,
   "id": "1c56e1a6",
   "metadata": {
    "ExecuteTime": {
     "end_time": "2023-01-12T19:37:49.605905Z",
     "start_time": "2023-01-12T19:37:49.441562Z"
    }
   },
   "outputs": [
    {
     "data": {
      "text/plain": [
       "<matplotlib.legend.Legend at 0x222dc8c12b0>"
      ]
     },
     "execution_count": 12,
     "metadata": {},
     "output_type": "execute_result"
    },
    {
     "data": {
      "image/png": "[encoded data removed]",
      "text/plain": [
       "<Figure size 640x480 with 1 Axes>"
      ]
     },
     "metadata": {},
     "output_type": "display_data"
    }
   ],
   "source": [
    "%matplotlib inline\n",
    "plt.plot(train_losses, label='Training loss')\n",
    "plt.plot(test_losses, label='Validation loss')\n",
    "plt.legend(frameon=False)"
   ]
  },
  {
   "cell_type": "code",
   "execution_count": 13,
   "id": "bc2a3bb1",
   "metadata": {
    "ExecuteTime": {
     "end_time": "2023-01-12T19:39:06.849886Z",
     "start_time": "2023-01-12T19:39:06.840852Z"
    }
   },
   "outputs": [],
   "source": [
    "def view_classify(img, ps):\n",
    "    ''' Function for viewing an image and it's predicted classes.\n",
    "    '''\n",
    "    ps = ps.data.numpy().squeeze()\n",
    "\n",
    "    fig, (ax1, ax2) = plt.subplots(figsize=(6,9), ncols=2)\n",
    "    ax1.imshow(img.resize_(1, 28, 28).numpy().squeeze())\n",
    "    ax1.axis('off')\n",
    "    ax2.barh(np.arange(10), ps)\n",
    "    ax2.set_aspect(0.1)\n",
    "    ax2.set_yticks(np.arange(10))\n",
    "    ax2.set_yticklabels(np.arange(10))\n",
    "    ax2.set_title('Class Probability')\n",
    "    ax2.set_xlim(0, 1.1)\n",
    "\n",
    "    plt.tight_layout()"
   ]
  },
  {
   "cell_type": "code",
   "execution_count": 15,
   "id": "dec0c98f",
   "metadata": {
    "ExecuteTime": {
     "end_time": "2023-01-12T19:39:31.345513Z",
     "start_time": "2023-01-12T19:39:31.162733Z"
    }
   },
   "outputs": [
    {
     "data": {
      "image/png": "[encoded data removed]",
      "text/plain": [
       "<Figure size 600x900 with 2 Axes>"
      ]
     },
     "metadata": {},
     "output_type": "display_data"
    }
   ],
   "source": [
    "%matplotlib inline\n",
    "def make_prediction(data):\n",
    "    images, labels = next(iter(data))\n",
    "\n",
    "    img = images[24].view(1, 784)\n",
    "    # Turn off gradients to speed up this part\n",
    "    with torch.no_grad():\n",
    "        logps = model(img)\n",
    "\n",
    "    # Output of the network are log-probabilities, need to take exponential for probabilities\n",
    "    ps = torch.exp(logps)\n",
    "    view_classify(img.view(1, 28, 28), ps)\n",
    "make_prediction(test_loader)"
   ]
  }
 ],
 "metadata": {
  "kernelspec": {
   "display_name": "Python 3 (ipykernel)",
   "language": "python",
   "name": "python3"
  },
  "language_info": {
   "codemirror_mode": {
    "name": "ipython",
    "version": 3
   },
   "file_extension": ".py",
   "mimetype": "text/x-python",
   "name": "python",
   "nbconvert_exporter": "python",
   "pygments_lexer": "ipython3",
   "version": "3.8.5"
  },
  "toc": {
   "base_numbering": 1,
   "nav_menu": {},
   "number_sections": true,
   "sideBar": true,
   "skip_h1_title": false,
   "title_cell": "Table of Contents",
   "title_sidebar": "Contents",
   "toc_cell": false,
   "toc_position": {},
   "toc_section_display": true,
   "toc_window_display": false
  },
  "varInspector": {
   "cols": {
    "lenName": 16,
    "lenType": 16,
    "lenVar": 40
   },
   "kernels_config": {
    "python": {
     "delete_cmd_postfix": "",
     "delete_cmd_prefix": "del ",
     "library": "var_list.py",
     "varRefreshCmd": "print(var_dic_list())"
    },
    "r": {
     "delete_cmd_postfix": ") ",
     "delete_cmd_prefix": "rm(",
     "library": "var_list.r",
     "varRefreshCmd": "cat(var_dic_list()) "
    }
   },
   "types_to_exclude": [
    "module",
    "function",
    "builtin_function_or_method",
    "instance",
    "_Feature"
   ],
   "window_display": false
  }
 },
 "nbformat": 4,
 "nbformat_minor": 5
}
