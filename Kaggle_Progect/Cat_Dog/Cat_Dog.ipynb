{
 "cells": [
  {
   "cell_type": "markdown",
   "id": "b41b92bc",
   "metadata": {},
   "source": [
    "# Cat and Dog"
   ]
  },
  {
   "cell_type": "markdown",
   "id": "70d2ed57",
   "metadata": {},
   "source": [
    "## Import Libraries"
   ]
  },
  {
   "cell_type": "code",
   "execution_count": 1,
   "id": "fcb33edd",
   "metadata": {
    "ExecuteTime": {
     "end_time": "2023-01-06T18:33:29.408855Z",
     "start_time": "2023-01-06T18:33:27.645056Z"
    }
   },
   "outputs": [],
   "source": [
    "import pandas as pd\n",
    "import numpy as np\n",
    "import glob\n",
    "import os\n",
    "import matplotlib.pyplot as plt\n",
    "import zipfile\n",
    "import torch.nn as nn\n",
    "import torch\n",
    "from torch import optim\n",
    "import torch.nn.functional as F\n",
    "from torch.utils.data import Dataset,DataLoader\n",
    "from torchvision import transforms\n",
    "from torchvision import models\n",
    "from PIL import Image\n",
    "from collections import OrderedDict\n",
    "from tqdm import tqdm\n",
    "from sklearn import model_selection\n",
    "from statistics import mode"
   ]
  },
  {
   "cell_type": "markdown",
   "id": "1f307d2e",
   "metadata": {},
   "source": [
    "## Define some variables"
   ]
  },
  {
   "cell_type": "code",
   "execution_count": 12,
   "id": "8d6ee423",
   "metadata": {
    "ExecuteTime": {
     "end_time": "2023-01-06T18:37:06.406997Z",
     "start_time": "2023-01-06T18:37:06.397969Z"
    }
   },
   "outputs": [],
   "source": [
    "base_dir = \"E:/data/DogCat/dogs-vs-cats-redux-kernels-edition\"\n",
    "train_ = os.path.join(base_dir,'train')\n",
    "test_ = os.path.join(base_dir,'test')\n",
    "\n",
    "device = torch.device(\"cuda\" if torch.cuda.is_available() else 'cpu')\n",
    "epochs = 20\n",
    "lr = 0.1\n",
    "batch_size = 64\n",
    "corss_val_split = 5\n",
    "img_size = 128\n"
   ]
  },
  {
   "cell_type": "code",
   "execution_count": 13,
   "id": "ec8505a5",
   "metadata": {
    "ExecuteTime": {
     "end_time": "2023-01-06T18:37:07.143286Z",
     "start_time": "2023-01-06T18:37:06.892047Z"
    }
   },
   "outputs": [],
   "source": [
    "model = models.resnet18(pretrained=True)"
   ]
  },
  {
   "cell_type": "markdown",
   "id": "d8106954",
   "metadata": {},
   "source": [
    "## Show sample DataFrame"
   ]
  },
  {
   "cell_type": "code",
   "execution_count": 14,
   "id": "9925551a",
   "metadata": {
    "ExecuteTime": {
     "end_time": "2023-01-06T18:37:09.107193Z",
     "start_time": "2023-01-06T18:37:09.080752Z"
    }
   },
   "outputs": [
    {
     "data": {
      "text/html": [
       "<div>\n",
       "<style scoped>\n",
       "    .dataframe tbody tr th:only-of-type {\n",
       "        vertical-align: middle;\n",
       "    }\n",
       "\n",
       "    .dataframe tbody tr th {\n",
       "        vertical-align: top;\n",
       "    }\n",
       "\n",
       "    .dataframe thead th {\n",
       "        text-align: right;\n",
       "    }\n",
       "</style>\n",
       "<table border=\"1\" class=\"dataframe\">\n",
       "  <thead>\n",
       "    <tr style=\"text-align: right;\">\n",
       "      <th></th>\n",
       "      <th>id</th>\n",
       "      <th>label</th>\n",
       "    </tr>\n",
       "  </thead>\n",
       "  <tbody>\n",
       "    <tr>\n",
       "      <th>0</th>\n",
       "      <td>1</td>\n",
       "      <td>0.5</td>\n",
       "    </tr>\n",
       "    <tr>\n",
       "      <th>1</th>\n",
       "      <td>2</td>\n",
       "      <td>0.5</td>\n",
       "    </tr>\n",
       "    <tr>\n",
       "      <th>2</th>\n",
       "      <td>3</td>\n",
       "      <td>0.5</td>\n",
       "    </tr>\n",
       "    <tr>\n",
       "      <th>3</th>\n",
       "      <td>4</td>\n",
       "      <td>0.5</td>\n",
       "    </tr>\n",
       "    <tr>\n",
       "      <th>4</th>\n",
       "      <td>5</td>\n",
       "      <td>0.5</td>\n",
       "    </tr>\n",
       "  </tbody>\n",
       "</table>\n",
       "</div>"
      ],
      "text/plain": [
       "   id  label\n",
       "0   1    0.5\n",
       "1   2    0.5\n",
       "2   3    0.5\n",
       "3   4    0.5\n",
       "4   5    0.5"
      ]
     },
     "execution_count": 14,
     "metadata": {},
     "output_type": "execute_result"
    }
   ],
   "source": [
    "sample_df = pd.read_csv(os.path.join(base_dir,'sample_submission.csv'))\n",
    "sample_df.head()"
   ]
  },
  {
   "cell_type": "markdown",
   "id": "c5852c4a",
   "metadata": {},
   "source": [
    "## Creating Dataframes for Training"
   ]
  },
  {
   "cell_type": "code",
   "execution_count": 15,
   "id": "1904e6db",
   "metadata": {
    "ExecuteTime": {
     "end_time": "2023-01-06T18:37:10.297707Z",
     "start_time": "2023-01-06T18:37:09.950656Z"
    }
   },
   "outputs": [],
   "source": [
    "train_dir = './train/train'\n",
    "test_dir = './test/test'\n",
    "\n",
    "train_df = pd.DataFrame()\n",
    "test_df = pd.DataFrame()\n",
    "train_df['file_path'] = glob.glob(r'E:/data/DogCat/dogs-vs-cats-redux-kernels-edition/train/train/*.*')\n",
    "train_df['file_name'] = [os.path.basename(val) for val in train_df['file_path']]\n",
    "train_df['file_id'] = train_df['file_name'].str.split('.').str[1]\n",
    "train_df['label'] = train_df['file_name'].str.split('.').str[0]\n",
    "train_df['label'] = train_df['label'].map({'cat':0,'dog':1})\n",
    "\n",
    "\n",
    "test_df['file_path'] = glob.glob(r'E:/data/DogCat/dogs-vs-cats-redux-kernels-edition/test/test/*.*')\n",
    "test_df['file_name'] = [os.path.basename(val) for val in test_df['file_path']]\n",
    "test_df['file_id'] = test_df['file_name'].str.split('.').str[0]\n",
    "test_df['label'] = 9999"
   ]
  },
  {
   "cell_type": "code",
   "execution_count": 17,
   "id": "badc25a8",
   "metadata": {
    "ExecuteTime": {
     "end_time": "2023-01-06T18:37:16.355685Z",
     "start_time": "2023-01-06T18:37:16.338137Z"
    }
   },
   "outputs": [
    {
     "data": {
      "text/html": [
       "<div>\n",
       "<style scoped>\n",
       "    .dataframe tbody tr th:only-of-type {\n",
       "        vertical-align: middle;\n",
       "    }\n",
       "\n",
       "    .dataframe tbody tr th {\n",
       "        vertical-align: top;\n",
       "    }\n",
       "\n",
       "    .dataframe thead th {\n",
       "        text-align: right;\n",
       "    }\n",
       "</style>\n",
       "<table border=\"1\" class=\"dataframe\">\n",
       "  <thead>\n",
       "    <tr style=\"text-align: right;\">\n",
       "      <th></th>\n",
       "      <th>file_path</th>\n",
       "      <th>file_name</th>\n",
       "      <th>file_id</th>\n",
       "      <th>label</th>\n",
       "      <th>kfold</th>\n",
       "    </tr>\n",
       "  </thead>\n",
       "  <tbody>\n",
       "    <tr>\n",
       "      <th>0</th>\n",
       "      <td>E:/data/DogCat/dogs-vs-cats-redux-kernels-edit...</td>\n",
       "      <td>cat.0.jpg</td>\n",
       "      <td>0</td>\n",
       "      <td>0</td>\n",
       "      <td>0</td>\n",
       "    </tr>\n",
       "    <tr>\n",
       "      <th>1</th>\n",
       "      <td>E:/data/DogCat/dogs-vs-cats-redux-kernels-edit...</td>\n",
       "      <td>cat.1.jpg</td>\n",
       "      <td>1</td>\n",
       "      <td>0</td>\n",
       "      <td>4</td>\n",
       "    </tr>\n",
       "    <tr>\n",
       "      <th>2</th>\n",
       "      <td>E:/data/DogCat/dogs-vs-cats-redux-kernels-edit...</td>\n",
       "      <td>cat.10.jpg</td>\n",
       "      <td>10</td>\n",
       "      <td>0</td>\n",
       "      <td>3</td>\n",
       "    </tr>\n",
       "    <tr>\n",
       "      <th>3</th>\n",
       "      <td>E:/data/DogCat/dogs-vs-cats-redux-kernels-edit...</td>\n",
       "      <td>cat.100.jpg</td>\n",
       "      <td>100</td>\n",
       "      <td>0</td>\n",
       "      <td>1</td>\n",
       "    </tr>\n",
       "    <tr>\n",
       "      <th>4</th>\n",
       "      <td>E:/data/DogCat/dogs-vs-cats-redux-kernels-edit...</td>\n",
       "      <td>cat.1000.jpg</td>\n",
       "      <td>1000</td>\n",
       "      <td>0</td>\n",
       "      <td>4</td>\n",
       "    </tr>\n",
       "  </tbody>\n",
       "</table>\n",
       "</div>"
      ],
      "text/plain": [
       "                                           file_path     file_name file_id  \\\n",
       "0  E:/data/DogCat/dogs-vs-cats-redux-kernels-edit...     cat.0.jpg       0   \n",
       "1  E:/data/DogCat/dogs-vs-cats-redux-kernels-edit...     cat.1.jpg       1   \n",
       "2  E:/data/DogCat/dogs-vs-cats-redux-kernels-edit...    cat.10.jpg      10   \n",
       "3  E:/data/DogCat/dogs-vs-cats-redux-kernels-edit...   cat.100.jpg     100   \n",
       "4  E:/data/DogCat/dogs-vs-cats-redux-kernels-edit...  cat.1000.jpg    1000   \n",
       "\n",
       "   label  kfold  \n",
       "0      0      0  \n",
       "1      0      4  \n",
       "2      0      3  \n",
       "3      0      1  \n",
       "4      0      4  "
      ]
     },
     "execution_count": 17,
     "metadata": {},
     "output_type": "execute_result"
    }
   ],
   "source": [
    "train_df.head()"
   ]
  },
  {
   "cell_type": "markdown",
   "id": "e2972a45",
   "metadata": {},
   "source": [
    "## Creating Folds for train data"
   ]
  },
  {
   "cell_type": "code",
   "execution_count": 18,
   "id": "8b1be6c7",
   "metadata": {
    "ExecuteTime": {
     "end_time": "2023-01-06T18:37:18.932574Z",
     "start_time": "2023-01-06T18:37:18.841931Z"
    }
   },
   "outputs": [],
   "source": [
    "train_df['kfold'] = -1\n",
    "y = train_df.label.values\n",
    "\n",
    "kf = model_selection.StratifiedKFold(n_splits=corss_val_split, shuffle=True, random_state=42)\n",
    "\n",
    "for f,(t_idx,val_idx) in enumerate(kf.split(X=train_df, y=y)):\n",
    "    train_df.loc[val_idx, 'kfold'] = f\n",
    "    \n",
    "train_df.to_csv(\"train_folds.csv\", index=False)"
   ]
  },
  {
   "cell_type": "code",
   "execution_count": 19,
   "id": "2db6a8a9",
   "metadata": {
    "ExecuteTime": {
     "end_time": "2023-01-06T18:37:20.229209Z",
     "start_time": "2023-01-06T18:37:20.174791Z"
    }
   },
   "outputs": [
    {
     "data": {
      "text/html": [
       "<div>\n",
       "<style scoped>\n",
       "    .dataframe tbody tr th:only-of-type {\n",
       "        vertical-align: middle;\n",
       "    }\n",
       "\n",
       "    .dataframe tbody tr th {\n",
       "        vertical-align: top;\n",
       "    }\n",
       "\n",
       "    .dataframe thead th {\n",
       "        text-align: right;\n",
       "    }\n",
       "</style>\n",
       "<table border=\"1\" class=\"dataframe\">\n",
       "  <thead>\n",
       "    <tr style=\"text-align: right;\">\n",
       "      <th></th>\n",
       "      <th>file_path</th>\n",
       "      <th>file_name</th>\n",
       "      <th>file_id</th>\n",
       "      <th>label</th>\n",
       "      <th>kfold</th>\n",
       "    </tr>\n",
       "  </thead>\n",
       "  <tbody>\n",
       "    <tr>\n",
       "      <th>0</th>\n",
       "      <td>E:/data/DogCat/dogs-vs-cats-redux-kernels-edit...</td>\n",
       "      <td>cat.0.jpg</td>\n",
       "      <td>0</td>\n",
       "      <td>0</td>\n",
       "      <td>0</td>\n",
       "    </tr>\n",
       "    <tr>\n",
       "      <th>1</th>\n",
       "      <td>E:/data/DogCat/dogs-vs-cats-redux-kernels-edit...</td>\n",
       "      <td>cat.1.jpg</td>\n",
       "      <td>1</td>\n",
       "      <td>0</td>\n",
       "      <td>4</td>\n",
       "    </tr>\n",
       "    <tr>\n",
       "      <th>2</th>\n",
       "      <td>E:/data/DogCat/dogs-vs-cats-redux-kernels-edit...</td>\n",
       "      <td>cat.10.jpg</td>\n",
       "      <td>10</td>\n",
       "      <td>0</td>\n",
       "      <td>3</td>\n",
       "    </tr>\n",
       "    <tr>\n",
       "      <th>3</th>\n",
       "      <td>E:/data/DogCat/dogs-vs-cats-redux-kernels-edit...</td>\n",
       "      <td>cat.100.jpg</td>\n",
       "      <td>100</td>\n",
       "      <td>0</td>\n",
       "      <td>1</td>\n",
       "    </tr>\n",
       "    <tr>\n",
       "      <th>4</th>\n",
       "      <td>E:/data/DogCat/dogs-vs-cats-redux-kernels-edit...</td>\n",
       "      <td>cat.1000.jpg</td>\n",
       "      <td>1000</td>\n",
       "      <td>0</td>\n",
       "      <td>4</td>\n",
       "    </tr>\n",
       "  </tbody>\n",
       "</table>\n",
       "</div>"
      ],
      "text/plain": [
       "                                           file_path     file_name  file_id  \\\n",
       "0  E:/data/DogCat/dogs-vs-cats-redux-kernels-edit...     cat.0.jpg        0   \n",
       "1  E:/data/DogCat/dogs-vs-cats-redux-kernels-edit...     cat.1.jpg        1   \n",
       "2  E:/data/DogCat/dogs-vs-cats-redux-kernels-edit...    cat.10.jpg       10   \n",
       "3  E:/data/DogCat/dogs-vs-cats-redux-kernels-edit...   cat.100.jpg      100   \n",
       "4  E:/data/DogCat/dogs-vs-cats-redux-kernels-edit...  cat.1000.jpg     1000   \n",
       "\n",
       "   label  kfold  \n",
       "0      0      0  \n",
       "1      0      4  \n",
       "2      0      3  \n",
       "3      0      1  \n",
       "4      0      4  "
      ]
     },
     "execution_count": 19,
     "metadata": {},
     "output_type": "execute_result"
    }
   ],
   "source": [
    "train_df = pd.read_csv(\"train_folds.csv\")\n",
    "train_df.head()"
   ]
  },
  {
   "cell_type": "markdown",
   "id": "b06dbed6",
   "metadata": {},
   "source": [
    "### Define Dataset Class "
   ]
  },
  {
   "cell_type": "code",
   "execution_count": 20,
   "id": "254bb2af",
   "metadata": {
    "ExecuteTime": {
     "end_time": "2023-01-06T18:37:21.728173Z",
     "start_time": "2023-01-06T18:37:21.718767Z"
    }
   },
   "outputs": [],
   "source": [
    "class CatDogset(Dataset):\n",
    "    def __init__(self,df,mode='train',transform=None):\n",
    "        self.df = df\n",
    "        self.mode = mode\n",
    "        self.transform = transform\n",
    "        \n",
    "    def __len__(self):\n",
    "        return len(self.df)\n",
    "    \n",
    "    def __getitem__(self,idx):\n",
    "        img = Image.open(self.df.loc[:,'file_path'][idx])\n",
    "        label = self.df.loc[:,'label'][idx]\n",
    "        \n",
    "        if self.transform:\n",
    "            img = self.transform(img)\n",
    "            \n",
    "        if self.mode == 'train':\n",
    "            img = img.numpy()\n",
    "            return img.astype('float32'), label\n",
    "        else:\n",
    "            img = img.numpy()\n",
    "            return img.astype('float32'),label"
   ]
  },
  {
   "cell_type": "markdown",
   "id": "d7d5474c",
   "metadata": {},
   "source": [
    "## Define Transformation"
   ]
  },
  {
   "cell_type": "code",
   "execution_count": 21,
   "id": "624e06b9",
   "metadata": {
    "ExecuteTime": {
     "end_time": "2023-01-06T18:37:23.011115Z",
     "start_time": "2023-01-06T18:37:23.001089Z"
    }
   },
   "outputs": [],
   "source": [
    "train_transform = transforms.Compose([transforms.Resize((img_size,img_size)),\n",
    "                                     transforms.ToTensor(),\n",
    "                                     transforms.Normalize([0.485,0.456,0.406],[0.229,0.224,0.225]),\n",
    "                                     transforms.RandomHorizontalFlip(0.5)])\n",
    "\n",
    "val_transform = transforms.Compose([transforms.Resize((img_size,img_size)),\n",
    "                                     transforms.ToTensor(),\n",
    "                                     transforms.Normalize([0.485,0.456,0.406],[0.229,0.224,0.225])])\n",
    "\n",
    "test_transform = transforms.Compose([transforms.Resize((img_size,img_size)),\n",
    "                                     transforms.ToTensor(),\n",
    "                                     transforms.Normalize([0.485,0.456,0.406],[0.229,0.224,0.225])])"
   ]
  },
  {
   "cell_type": "markdown",
   "id": "ee90cec0",
   "metadata": {},
   "source": [
    "## Creating sample loader for visualization"
   ]
  },
  {
   "cell_type": "code",
   "execution_count": 22,
   "id": "f8865be1",
   "metadata": {
    "ExecuteTime": {
     "end_time": "2023-01-06T18:37:23.884120Z",
     "start_time": "2023-01-06T18:37:23.876917Z"
    }
   },
   "outputs": [],
   "source": [
    "sample_set = CatDogset(train_df,mode='train',transform=train_transform)\n",
    "sample_loader = DataLoader(sample_set,batch_size=batch_size,shuffle=True,num_workers=4)"
   ]
  },
  {
   "cell_type": "code",
   "execution_count": 23,
   "id": "b156a6cd",
   "metadata": {
    "ExecuteTime": {
     "end_time": "2023-01-06T18:37:24.816277Z",
     "start_time": "2023-01-06T18:37:24.803316Z"
    }
   },
   "outputs": [],
   "source": [
    "def display_batch():\n",
    "    figure = plt.figure(figsize=(15,15))\n",
    "    clos, rows = 8,8\n",
    "    for i in range(1,clos*rows):\n",
    "        img,label = next(iter(sample_loader))\n",
    "        figure.add_subplot(rows,clos,i)\n",
    "        plt.title(label[i])\n",
    "        plt.axis('off')\n",
    "        plt.imshow(img[i].permute(1,2,0),camap='gray')\n",
    "    plt.show()\n",
    "    \n",
    "# display_batch()"
   ]
  },
  {
   "cell_type": "code",
   "execution_count": 24,
   "id": "0e63fece",
   "metadata": {
    "ExecuteTime": {
     "end_time": "2023-01-06T18:37:28.240835Z",
     "start_time": "2023-01-06T18:37:25.582021Z"
    }
   },
   "outputs": [],
   "source": [
    "for param in model.parameters():\n",
    "    param.requires_grad = False\n",
    "fc = nn.Sequential(OrderedDict([\n",
    "    ('fc',nn.Linear(512,100)),\n",
    "('relu',nn.ReLU()),\n",
    "('fc2',nn.Linear(100,2)),\n",
    "('output',nn.LogSoftmax(dim=1))]))\n",
    "\n",
    "model.fc = fc\n",
    "model = model.to(device)"
   ]
  },
  {
   "cell_type": "code",
   "execution_count": 25,
   "id": "8fa9b8c4",
   "metadata": {
    "ExecuteTime": {
     "end_time": "2023-01-06T18:38:49.199764Z",
     "start_time": "2023-01-06T18:38:49.188144Z"
    }
   },
   "outputs": [],
   "source": [
    "optimizer = optim.Adam(model.fc.parameters(),lr=lr)\n",
    "criterion = nn.NLLLoss()\n",
    "scheduler = optim.lr_scheduler.ReduceLROnPlateau(optimizer,patience=5,verbose=True)"
   ]
  },
  {
   "cell_type": "code",
   "execution_count": 37,
   "id": "98eec2e6",
   "metadata": {
    "ExecuteTime": {
     "end_time": "2023-01-06T18:49:49.436680Z",
     "start_time": "2023-01-06T18:49:49.427350Z"
    }
   },
   "outputs": [],
   "source": [
    "def fit(dataset,dataloader,criterion,model,optimizer):\n",
    "    model.train()\n",
    "    for bi,(img,lab) in tqdm(enumerate(dataloader),total=int(len(dataset)/dataloader.batch_size)):\n",
    "        img,lab = img.to(device), lab.to(device)\n",
    "        optimizer.zero_grad()\n",
    "        outputs = model(img)\n",
    "        loss = criterion(outputs,lab)\n",
    "        loss.backward()\n",
    "        optimizer.step()"
   ]
  },
  {
   "cell_type": "code",
   "execution_count": 41,
   "id": "a92170b4",
   "metadata": {
    "ExecuteTime": {
     "end_time": "2023-01-06T18:52:24.547420Z",
     "start_time": "2023-01-06T18:52:24.541411Z"
    }
   },
   "outputs": [],
   "source": [
    "def evaluate(dataset,dataloader,criterion,model):\n",
    "    model.eval()\n",
    "    final_loss = 0\n",
    "    counter = 0\n",
    "    for bi,(img,lab) in tqdm(enumerate(dataloader),total=int(len(dataset)/dataloader.batch_size)):\n",
    "        counter += 1\n",
    "        img,lab = img.to(device), lab.to(device)\n",
    "        output = model(img)\n",
    "        loss = criterion(output,lab)\n",
    "        final_loss += loss\n",
    "    return final_loss/counter"
   ]
  },
  {
   "cell_type": "code",
   "execution_count": 39,
   "id": "f944f4c4",
   "metadata": {
    "ExecuteTime": {
     "end_time": "2023-01-06T18:49:50.357091Z",
     "start_time": "2023-01-06T18:49:50.342988Z"
    }
   },
   "outputs": [],
   "source": [
    "def train_fold(fold):\n",
    "    print(f\"For Fold={fold}\")\n",
    "    for epoch in range(epochs):\n",
    "        print(f\"Epoch={epoch}\")\n",
    "        train_dataframe = train_df.query('kfold!=@fold').reset_index(drop=True)\n",
    "        val_dataframe = train_df.query('kfold==@fold').reset_index(drop=True)\n",
    "\n",
    "        trainset = CatDogset(train_dataframe,mode = 'train' ,transform = train_transform)\n",
    "        train_loader = DataLoader(trainset, batch_size = batch_size, shuffle=True, num_workers=0)\n",
    "\n",
    "        valset = CatDogset(val_dataframe,mode = 'test' ,transform = val_transform)\n",
    "        val_loader = DataLoader(valset,batch_size = batch_size, shuffle=False, num_workers=0)\n",
    "\n",
    "\n",
    "        fit(trainset,train_loader,criterion,model,optimizer)\n",
    "        val_score = evaluate(valset,val_loader,criterion,model)\n",
    "        scheduler.step(val_score)\n",
    "        torch.save(model.state_dict(),f\"resnet18_fold_{fold}.bin\")"
   ]
  },
  {
   "cell_type": "code",
   "execution_count": 42,
   "id": "eeddab16",
   "metadata": {
    "ExecuteTime": {
     "end_time": "2023-01-06T23:02:34.049610Z",
     "start_time": "2023-01-06T18:52:58.009781Z"
    }
   },
   "outputs": [
    {
     "name": "stdout",
     "output_type": "stream",
     "text": [
      "For Fold=0\n",
      "Epoch=0\n"
     ]
    },
    {
     "name": "stderr",
     "output_type": "stream",
     "text": [
      "313it [01:12,  4.34it/s]                                                                                               \n",
      "79it [00:32,  2.44it/s]                                                                                                \n"
     ]
    },
    {
     "name": "stdout",
     "output_type": "stream",
     "text": [
      "Epoch=1\n"
     ]
    },
    {
     "name": "stderr",
     "output_type": "stream",
     "text": [
      "313it [01:12,  4.29it/s]                                                                                               \n",
      "79it [00:16,  4.69it/s]                                                                                                \n"
     ]
    },
    {
     "name": "stdout",
     "output_type": "stream",
     "text": [
      "Epoch=2\n"
     ]
    },
    {
     "name": "stderr",
     "output_type": "stream",
     "text": [
      "313it [01:10,  4.44it/s]                                                                                               \n",
      "79it [00:15,  4.95it/s]                                                                                                \n"
     ]
    },
    {
     "name": "stdout",
     "output_type": "stream",
     "text": [
      "Epoch=3\n"
     ]
    },
    {
     "name": "stderr",
     "output_type": "stream",
     "text": [
      "313it [01:10,  4.42it/s]                                                                                               \n",
      "79it [00:15,  4.94it/s]                                                                                                \n"
     ]
    },
    {
     "name": "stdout",
     "output_type": "stream",
     "text": [
      "Epoch=4\n"
     ]
    },
    {
     "name": "stderr",
     "output_type": "stream",
     "text": [
      "313it [01:13,  4.27it/s]                                                                                               \n",
      "79it [00:16,  4.77it/s]                                                                                                \n"
     ]
    },
    {
     "name": "stdout",
     "output_type": "stream",
     "text": [
      "Epoch=5\n"
     ]
    },
    {
     "name": "stderr",
     "output_type": "stream",
     "text": [
      "313it [01:11,  4.40it/s]                                                                                               \n",
      "79it [00:16,  4.93it/s]                                                                                                \n"
     ]
    },
    {
     "name": "stdout",
     "output_type": "stream",
     "text": [
      "Epoch=6\n"
     ]
    },
    {
     "name": "stderr",
     "output_type": "stream",
     "text": [
      "313it [01:10,  4.42it/s]                                                                                               \n",
      "79it [00:16,  4.93it/s]                                                                                                \n"
     ]
    },
    {
     "name": "stdout",
     "output_type": "stream",
     "text": [
      "Epoch     7: reducing learning rate of group 0 to 1.0000e-02.\n",
      "Epoch=7\n"
     ]
    },
    {
     "name": "stderr",
     "output_type": "stream",
     "text": [
      "313it [01:10,  4.42it/s]                                                                                               \n",
      "79it [00:16,  4.87it/s]                                                                                                \n"
     ]
    },
    {
     "name": "stdout",
     "output_type": "stream",
     "text": [
      "Epoch=8\n"
     ]
    },
    {
     "name": "stderr",
     "output_type": "stream",
     "text": [
      "313it [01:12,  4.31it/s]                                                                                               \n",
      "79it [00:15,  4.97it/s]                                                                                                \n"
     ]
    },
    {
     "name": "stdout",
     "output_type": "stream",
     "text": [
      "Epoch=9\n"
     ]
    },
    {
     "name": "stderr",
     "output_type": "stream",
     "text": [
      "313it [01:10,  4.42it/s]                                                                                               \n",
      "79it [00:15,  4.98it/s]                                                                                                \n"
     ]
    },
    {
     "name": "stdout",
     "output_type": "stream",
     "text": [
      "Epoch=10\n"
     ]
    },
    {
     "name": "stderr",
     "output_type": "stream",
     "text": [
      "313it [01:10,  4.44it/s]                                                                                               \n",
      "79it [00:16,  4.93it/s]                                                                                                \n"
     ]
    },
    {
     "name": "stdout",
     "output_type": "stream",
     "text": [
      "Epoch=11\n"
     ]
    },
    {
     "name": "stderr",
     "output_type": "stream",
     "text": [
      "313it [01:10,  4.41it/s]                                                                                               \n",
      "79it [00:16,  4.92it/s]                                                                                                \n"
     ]
    },
    {
     "name": "stdout",
     "output_type": "stream",
     "text": [
      "Epoch=12\n"
     ]
    },
    {
     "name": "stderr",
     "output_type": "stream",
     "text": [
      "313it [01:10,  4.42it/s]                                                                                               \n",
      "79it [00:15,  4.94it/s]                                                                                                \n"
     ]
    },
    {
     "name": "stdout",
     "output_type": "stream",
     "text": [
      "Epoch    13: reducing learning rate of group 0 to 1.0000e-03.\n",
      "Epoch=13\n"
     ]
    },
    {
     "name": "stderr",
     "output_type": "stream",
     "text": [
      "313it [01:10,  4.42it/s]                                                                                               \n",
      "79it [00:16,  4.90it/s]                                                                                                \n"
     ]
    },
    {
     "name": "stdout",
     "output_type": "stream",
     "text": [
      "Epoch=14\n"
     ]
    },
    {
     "name": "stderr",
     "output_type": "stream",
     "text": [
      "313it [01:11,  4.37it/s]                                                                                               \n",
      "79it [00:16,  4.91it/s]                                                                                                \n"
     ]
    },
    {
     "name": "stdout",
     "output_type": "stream",
     "text": [
      "Epoch=15\n"
     ]
    },
    {
     "name": "stderr",
     "output_type": "stream",
     "text": [
      "313it [1:38:26, 18.87s/it]                                                                                             \n",
      "79it [00:17,  4.45it/s]                                                                                                \n"
     ]
    },
    {
     "name": "stdout",
     "output_type": "stream",
     "text": [
      "Epoch=16\n"
     ]
    },
    {
     "name": "stderr",
     "output_type": "stream",
     "text": [
      "313it [01:22,  3.80it/s]                                                                                               \n",
      "79it [00:17,  4.44it/s]                                                                                                \n"
     ]
    },
    {
     "name": "stdout",
     "output_type": "stream",
     "text": [
      "Epoch=17\n"
     ]
    },
    {
     "name": "stderr",
     "output_type": "stream",
     "text": [
      "313it [01:15,  4.14it/s]                                                                                               \n",
      "79it [00:17,  4.62it/s]                                                                                                \n"
     ]
    },
    {
     "name": "stdout",
     "output_type": "stream",
     "text": [
      "Epoch=18\n"
     ]
    },
    {
     "name": "stderr",
     "output_type": "stream",
     "text": [
      "313it [01:14,  4.18it/s]                                                                                               \n",
      "79it [00:16,  4.70it/s]                                                                                                \n"
     ]
    },
    {
     "name": "stdout",
     "output_type": "stream",
     "text": [
      "Epoch    19: reducing learning rate of group 0 to 1.0000e-04.\n",
      "Epoch=19\n"
     ]
    },
    {
     "name": "stderr",
     "output_type": "stream",
     "text": [
      "313it [01:14,  4.18it/s]                                                                                               \n",
      "79it [00:16,  4.66it/s]                                                                                                \n"
     ]
    },
    {
     "name": "stdout",
     "output_type": "stream",
     "text": [
      "For Fold=1\n",
      "Epoch=0\n"
     ]
    },
    {
     "name": "stderr",
     "output_type": "stream",
     "text": [
      "313it [01:16,  4.08it/s]                                                                                               \n",
      "79it [00:17,  4.62it/s]                                                                                                \n"
     ]
    },
    {
     "name": "stdout",
     "output_type": "stream",
     "text": [
      "Epoch=1\n"
     ]
    },
    {
     "name": "stderr",
     "output_type": "stream",
     "text": [
      "313it [01:16,  4.12it/s]                                                                                               \n",
      "79it [00:17,  4.62it/s]                                                                                                \n"
     ]
    },
    {
     "name": "stdout",
     "output_type": "stream",
     "text": [
      "Epoch=2\n"
     ]
    },
    {
     "name": "stderr",
     "output_type": "stream",
     "text": [
      "313it [01:15,  4.17it/s]                                                                                               \n",
      "79it [00:17,  4.58it/s]                                                                                                \n"
     ]
    },
    {
     "name": "stdout",
     "output_type": "stream",
     "text": [
      "Epoch=3\n"
     ]
    },
    {
     "name": "stderr",
     "output_type": "stream",
     "text": [
      "313it [01:16,  4.11it/s]                                                                                               \n",
      "79it [00:17,  4.52it/s]                                                                                                \n"
     ]
    },
    {
     "name": "stdout",
     "output_type": "stream",
     "text": [
      "Epoch=4\n"
     ]
    },
    {
     "name": "stderr",
     "output_type": "stream",
     "text": [
      "313it [01:18,  3.99it/s]                                                                                               \n",
      "79it [00:18,  4.25it/s]                                                                                                \n"
     ]
    },
    {
     "name": "stdout",
     "output_type": "stream",
     "text": [
      "Epoch    25: reducing learning rate of group 0 to 1.0000e-05.\n",
      "Epoch=5\n"
     ]
    },
    {
     "name": "stderr",
     "output_type": "stream",
     "text": [
      "313it [01:14,  4.18it/s]                                                                                               \n",
      "79it [00:17,  4.56it/s]                                                                                                \n"
     ]
    },
    {
     "name": "stdout",
     "output_type": "stream",
     "text": [
      "Epoch=6\n"
     ]
    },
    {
     "name": "stderr",
     "output_type": "stream",
     "text": [
      "313it [01:12,  4.30it/s]                                                                                               \n",
      "79it [00:17,  4.42it/s]                                                                                                \n"
     ]
    },
    {
     "name": "stdout",
     "output_type": "stream",
     "text": [
      "Epoch=7\n"
     ]
    },
    {
     "name": "stderr",
     "output_type": "stream",
     "text": [
      "313it [01:16,  4.07it/s]                                                                                               \n",
      "79it [00:17,  4.63it/s]                                                                                                \n"
     ]
    },
    {
     "name": "stdout",
     "output_type": "stream",
     "text": [
      "Epoch=8\n"
     ]
    },
    {
     "name": "stderr",
     "output_type": "stream",
     "text": [
      "313it [01:13,  4.25it/s]                                                                                               \n",
      "79it [00:15,  5.07it/s]                                                                                                \n"
     ]
    },
    {
     "name": "stdout",
     "output_type": "stream",
     "text": [
      "Epoch=9\n"
     ]
    },
    {
     "name": "stderr",
     "output_type": "stream",
     "text": [
      "313it [01:08,  4.58it/s]                                                                                               \n",
      "79it [00:15,  5.05it/s]                                                                                                \n"
     ]
    },
    {
     "name": "stdout",
     "output_type": "stream",
     "text": [
      "Epoch=10\n"
     ]
    },
    {
     "name": "stderr",
     "output_type": "stream",
     "text": [
      "313it [01:09,  4.48it/s]                                                                                               \n",
      "79it [00:16,  4.90it/s]                                                                                                \n"
     ]
    },
    {
     "name": "stdout",
     "output_type": "stream",
     "text": [
      "Epoch    31: reducing learning rate of group 0 to 1.0000e-06.\n",
      "Epoch=11\n"
     ]
    },
    {
     "name": "stderr",
     "output_type": "stream",
     "text": [
      "313it [01:14,  4.22it/s]                                                                                               \n",
      "79it [00:17,  4.59it/s]                                                                                                \n"
     ]
    },
    {
     "name": "stdout",
     "output_type": "stream",
     "text": [
      "Epoch=12\n"
     ]
    },
    {
     "name": "stderr",
     "output_type": "stream",
     "text": [
      "313it [01:15,  4.14it/s]                                                                                               \n",
      "79it [00:17,  4.56it/s]                                                                                                \n"
     ]
    },
    {
     "name": "stdout",
     "output_type": "stream",
     "text": [
      "Epoch=13\n"
     ]
    },
    {
     "name": "stderr",
     "output_type": "stream",
     "text": [
      "313it [01:15,  4.12it/s]                                                                                               \n",
      "79it [00:17,  4.57it/s]                                                                                                \n"
     ]
    },
    {
     "name": "stdout",
     "output_type": "stream",
     "text": [
      "Epoch=14\n"
     ]
    },
    {
     "name": "stderr",
     "output_type": "stream",
     "text": [
      "313it [01:17,  4.06it/s]                                                                                               \n",
      "79it [00:18,  4.23it/s]                                                                                                \n"
     ]
    },
    {
     "name": "stdout",
     "output_type": "stream",
     "text": [
      "Epoch=15\n"
     ]
    },
    {
     "name": "stderr",
     "output_type": "stream",
     "text": [
      "313it [01:16,  4.10it/s]                                                                                               \n",
      "79it [00:17,  4.51it/s]                                                                                                \n"
     ]
    },
    {
     "name": "stdout",
     "output_type": "stream",
     "text": [
      "Epoch=16\n"
     ]
    },
    {
     "name": "stderr",
     "output_type": "stream",
     "text": [
      "313it [01:17,  4.06it/s]                                                                                               \n",
      "79it [00:16,  4.74it/s]                                                                                                \n"
     ]
    },
    {
     "name": "stdout",
     "output_type": "stream",
     "text": [
      "Epoch    37: reducing learning rate of group 0 to 1.0000e-07.\n",
      "Epoch=17\n"
     ]
    },
    {
     "name": "stderr",
     "output_type": "stream",
     "text": [
      "313it [01:11,  4.37it/s]                                                                                               \n",
      "79it [00:17,  4.57it/s]                                                                                                \n"
     ]
    },
    {
     "name": "stdout",
     "output_type": "stream",
     "text": [
      "Epoch=18\n"
     ]
    },
    {
     "name": "stderr",
     "output_type": "stream",
     "text": [
      "313it [01:16,  4.08it/s]                                                                                               \n",
      "79it [00:17,  4.58it/s]                                                                                                \n"
     ]
    },
    {
     "name": "stdout",
     "output_type": "stream",
     "text": [
      "Epoch=19\n"
     ]
    },
    {
     "name": "stderr",
     "output_type": "stream",
     "text": [
      "313it [01:17,  4.04it/s]                                                                                               \n",
      "79it [00:16,  4.68it/s]                                                                                                \n"
     ]
    },
    {
     "name": "stdout",
     "output_type": "stream",
     "text": [
      "For Fold=2\n",
      "Epoch=0\n"
     ]
    },
    {
     "name": "stderr",
     "output_type": "stream",
     "text": [
      "313it [01:13,  4.26it/s]                                                                                               \n",
      "79it [00:17,  4.64it/s]                                                                                                \n"
     ]
    },
    {
     "name": "stdout",
     "output_type": "stream",
     "text": [
      "Epoch=1\n"
     ]
    },
    {
     "name": "stderr",
     "output_type": "stream",
     "text": [
      "313it [01:14,  4.21it/s]                                                                                               \n",
      "79it [00:16,  4.69it/s]                                                                                                \n"
     ]
    },
    {
     "name": "stdout",
     "output_type": "stream",
     "text": [
      "Epoch=2\n"
     ]
    },
    {
     "name": "stderr",
     "output_type": "stream",
     "text": [
      "313it [01:15,  4.15it/s]                                                                                               \n",
      "79it [00:17,  4.55it/s]                                                                                                \n"
     ]
    },
    {
     "name": "stdout",
     "output_type": "stream",
     "text": [
      "Epoch    43: reducing learning rate of group 0 to 1.0000e-08.\n",
      "Epoch=3\n"
     ]
    },
    {
     "name": "stderr",
     "output_type": "stream",
     "text": [
      "313it [01:11,  4.39it/s]                                                                                               \n",
      "79it [00:15,  4.96it/s]                                                                                                \n"
     ]
    },
    {
     "name": "stdout",
     "output_type": "stream",
     "text": [
      "Epoch=4\n"
     ]
    },
    {
     "name": "stderr",
     "output_type": "stream",
     "text": [
      "313it [01:09,  4.48it/s]                                                                                               \n",
      "79it [00:15,  4.96it/s]                                                                                                \n"
     ]
    },
    {
     "name": "stdout",
     "output_type": "stream",
     "text": [
      "Epoch=5\n"
     ]
    },
    {
     "name": "stderr",
     "output_type": "stream",
     "text": [
      "313it [01:10,  4.45it/s]                                                                                               \n",
      "79it [00:15,  4.95it/s]                                                                                                \n"
     ]
    },
    {
     "name": "stdout",
     "output_type": "stream",
     "text": [
      "Epoch=6\n"
     ]
    },
    {
     "name": "stderr",
     "output_type": "stream",
     "text": [
      "313it [01:10,  4.46it/s]                                                                                               \n",
      "79it [00:15,  4.96it/s]                                                                                                \n"
     ]
    },
    {
     "name": "stdout",
     "output_type": "stream",
     "text": [
      "Epoch=7\n"
     ]
    },
    {
     "name": "stderr",
     "output_type": "stream",
     "text": [
      "313it [01:09,  4.48it/s]                                                                                               \n",
      "79it [00:15,  4.95it/s]                                                                                                \n"
     ]
    },
    {
     "name": "stdout",
     "output_type": "stream",
     "text": [
      "Epoch=8\n"
     ]
    },
    {
     "name": "stderr",
     "output_type": "stream",
     "text": [
      "313it [01:09,  4.48it/s]                                                                                               \n",
      "79it [00:15,  4.96it/s]                                                                                                \n"
     ]
    },
    {
     "name": "stdout",
     "output_type": "stream",
     "text": [
      "Epoch=9\n"
     ]
    },
    {
     "name": "stderr",
     "output_type": "stream",
     "text": [
      "313it [01:09,  4.49it/s]                                                                                               \n",
      "79it [00:15,  4.99it/s]                                                                                                \n"
     ]
    },
    {
     "name": "stdout",
     "output_type": "stream",
     "text": [
      "Epoch=10\n"
     ]
    },
    {
     "name": "stderr",
     "output_type": "stream",
     "text": [
      "313it [01:36,  3.25it/s]                                                                                               \n",
      "79it [00:31,  2.52it/s]                                                                                                \n"
     ]
    },
    {
     "name": "stdout",
     "output_type": "stream",
     "text": [
      "Epoch=11\n"
     ]
    },
    {
     "name": "stderr",
     "output_type": "stream",
     "text": [
      "313it [01:46,  2.94it/s]                                                                                               \n",
      "79it [00:15,  4.98it/s]                                                                                                \n"
     ]
    },
    {
     "name": "stdout",
     "output_type": "stream",
     "text": [
      "Epoch=12\n"
     ]
    },
    {
     "name": "stderr",
     "output_type": "stream",
     "text": [
      "313it [01:09,  4.48it/s]                                                                                               \n",
      "79it [00:16,  4.93it/s]                                                                                                \n"
     ]
    },
    {
     "name": "stdout",
     "output_type": "stream",
     "text": [
      "Epoch=13\n"
     ]
    },
    {
     "name": "stderr",
     "output_type": "stream",
     "text": [
      "313it [01:10,  4.47it/s]                                                                                               \n",
      "79it [00:15,  4.98it/s]                                                                                                \n"
     ]
    },
    {
     "name": "stdout",
     "output_type": "stream",
     "text": [
      "Epoch=14\n"
     ]
    },
    {
     "name": "stderr",
     "output_type": "stream",
     "text": [
      "313it [01:10,  4.43it/s]                                                                                               \n",
      "79it [00:16,  4.66it/s]                                                                                                \n"
     ]
    },
    {
     "name": "stdout",
     "output_type": "stream",
     "text": [
      "Epoch=15\n"
     ]
    },
    {
     "name": "stderr",
     "output_type": "stream",
     "text": [
      "313it [01:12,  4.34it/s]                                                                                               \n",
      "79it [00:16,  4.86it/s]                                                                                                \n"
     ]
    },
    {
     "name": "stdout",
     "output_type": "stream",
     "text": [
      "Epoch=16\n"
     ]
    },
    {
     "name": "stderr",
     "output_type": "stream",
     "text": [
      "313it [01:11,  4.35it/s]                                                                                               \n",
      "79it [00:15,  4.94it/s]                                                                                                \n"
     ]
    },
    {
     "name": "stdout",
     "output_type": "stream",
     "text": [
      "Epoch=17\n"
     ]
    },
    {
     "name": "stderr",
     "output_type": "stream",
     "text": [
      "313it [01:10,  4.46it/s]                                                                                               \n",
      "79it [00:15,  4.96it/s]                                                                                                \n"
     ]
    },
    {
     "name": "stdout",
     "output_type": "stream",
     "text": [
      "Epoch=18\n"
     ]
    },
    {
     "name": "stderr",
     "output_type": "stream",
     "text": [
      "313it [01:10,  4.47it/s]                                                                                               \n",
      "79it [00:15,  4.99it/s]                                                                                                \n"
     ]
    },
    {
     "name": "stdout",
     "output_type": "stream",
     "text": [
      "Epoch=19\n"
     ]
    },
    {
     "name": "stderr",
     "output_type": "stream",
     "text": [
      "313it [01:10,  4.47it/s]                                                                                               \n",
      "79it [00:15,  4.96it/s]                                                                                                \n"
     ]
    },
    {
     "name": "stdout",
     "output_type": "stream",
     "text": [
      "For Fold=3\n",
      "Epoch=0\n"
     ]
    },
    {
     "name": "stderr",
     "output_type": "stream",
     "text": [
      "313it [01:09,  4.47it/s]                                                                                               \n",
      "79it [00:15,  5.01it/s]                                                                                                \n"
     ]
    },
    {
     "name": "stdout",
     "output_type": "stream",
     "text": [
      "Epoch=1\n"
     ]
    },
    {
     "name": "stderr",
     "output_type": "stream",
     "text": [
      "313it [01:10,  4.47it/s]                                                                                               \n",
      "79it [00:16,  4.93it/s]                                                                                                \n"
     ]
    },
    {
     "name": "stdout",
     "output_type": "stream",
     "text": [
      "Epoch=2\n"
     ]
    },
    {
     "name": "stderr",
     "output_type": "stream",
     "text": [
      "313it [01:09,  4.48it/s]                                                                                               \n",
      "79it [00:15,  4.98it/s]                                                                                                \n"
     ]
    },
    {
     "name": "stdout",
     "output_type": "stream",
     "text": [
      "Epoch=3\n"
     ]
    },
    {
     "name": "stderr",
     "output_type": "stream",
     "text": [
      "313it [01:11,  4.40it/s]                                                                                               \n",
      "79it [00:15,  4.99it/s]                                                                                                \n"
     ]
    },
    {
     "name": "stdout",
     "output_type": "stream",
     "text": [
      "Epoch=4\n"
     ]
    },
    {
     "name": "stderr",
     "output_type": "stream",
     "text": [
      "313it [01:09,  4.48it/s]                                                                                               \n",
      "79it [00:15,  4.96it/s]                                                                                                \n"
     ]
    },
    {
     "name": "stdout",
     "output_type": "stream",
     "text": [
      "Epoch=5\n"
     ]
    },
    {
     "name": "stderr",
     "output_type": "stream",
     "text": [
      "313it [01:10,  4.46it/s]                                                                                               \n",
      "79it [00:16,  4.93it/s]                                                                                                \n"
     ]
    },
    {
     "name": "stdout",
     "output_type": "stream",
     "text": [
      "Epoch=6\n"
     ]
    },
    {
     "name": "stderr",
     "output_type": "stream",
     "text": [
      "313it [01:10,  4.46it/s]                                                                                               \n",
      "79it [00:15,  4.99it/s]                                                                                                \n"
     ]
    },
    {
     "name": "stdout",
     "output_type": "stream",
     "text": [
      "Epoch=7\n"
     ]
    },
    {
     "name": "stderr",
     "output_type": "stream",
     "text": [
      "313it [01:09,  4.49it/s]                                                                                               \n",
      "79it [00:15,  5.00it/s]                                                                                                \n"
     ]
    },
    {
     "name": "stdout",
     "output_type": "stream",
     "text": [
      "Epoch=8\n"
     ]
    },
    {
     "name": "stderr",
     "output_type": "stream",
     "text": [
      "313it [01:09,  4.49it/s]                                                                                               \n",
      "79it [00:15,  4.97it/s]                                                                                                \n"
     ]
    },
    {
     "name": "stdout",
     "output_type": "stream",
     "text": [
      "Epoch=9\n"
     ]
    },
    {
     "name": "stderr",
     "output_type": "stream",
     "text": [
      "313it [01:09,  4.49it/s]                                                                                               \n",
      "79it [00:15,  4.96it/s]                                                                                                \n"
     ]
    },
    {
     "name": "stdout",
     "output_type": "stream",
     "text": [
      "Epoch=10\n"
     ]
    },
    {
     "name": "stderr",
     "output_type": "stream",
     "text": [
      "313it [01:11,  4.40it/s]                                                                                               \n",
      "79it [00:15,  4.96it/s]                                                                                                \n"
     ]
    },
    {
     "name": "stdout",
     "output_type": "stream",
     "text": [
      "Epoch=11\n"
     ]
    },
    {
     "name": "stderr",
     "output_type": "stream",
     "text": [
      "313it [01:09,  4.48it/s]                                                                                               \n",
      "79it [00:15,  4.97it/s]                                                                                                \n"
     ]
    },
    {
     "name": "stdout",
     "output_type": "stream",
     "text": [
      "Epoch=12\n"
     ]
    },
    {
     "name": "stderr",
     "output_type": "stream",
     "text": [
      "313it [01:09,  4.48it/s]                                                                                               \n",
      "79it [00:15,  5.01it/s]                                                                                                \n"
     ]
    },
    {
     "name": "stdout",
     "output_type": "stream",
     "text": [
      "Epoch=13\n"
     ]
    },
    {
     "name": "stderr",
     "output_type": "stream",
     "text": [
      "313it [01:10,  4.47it/s]                                                                                               \n",
      "79it [00:15,  5.00it/s]                                                                                                \n"
     ]
    },
    {
     "name": "stdout",
     "output_type": "stream",
     "text": [
      "Epoch=14\n"
     ]
    },
    {
     "name": "stderr",
     "output_type": "stream",
     "text": [
      "313it [01:12,  4.31it/s]                                                                                               \n",
      "79it [00:17,  4.54it/s]                                                                                                \n"
     ]
    },
    {
     "name": "stdout",
     "output_type": "stream",
     "text": [
      "Epoch=15\n"
     ]
    },
    {
     "name": "stderr",
     "output_type": "stream",
     "text": [
      "313it [01:23,  3.75it/s]                                                                                               \n",
      "79it [00:18,  4.18it/s]                                                                                                \n"
     ]
    },
    {
     "name": "stdout",
     "output_type": "stream",
     "text": [
      "Epoch=16\n"
     ]
    },
    {
     "name": "stderr",
     "output_type": "stream",
     "text": [
      "313it [01:20,  3.87it/s]                                                                                               \n",
      "79it [00:19,  4.06it/s]                                                                                                \n"
     ]
    },
    {
     "name": "stdout",
     "output_type": "stream",
     "text": [
      "Epoch=17\n"
     ]
    },
    {
     "name": "stderr",
     "output_type": "stream",
     "text": [
      "313it [01:21,  3.84it/s]                                                                                               \n",
      "79it [00:18,  4.19it/s]                                                                                                \n"
     ]
    },
    {
     "name": "stdout",
     "output_type": "stream",
     "text": [
      "Epoch=18\n"
     ]
    },
    {
     "name": "stderr",
     "output_type": "stream",
     "text": [
      "313it [01:25,  3.65it/s]                                                                                               \n",
      "79it [00:19,  4.09it/s]                                                                                                \n"
     ]
    },
    {
     "name": "stdout",
     "output_type": "stream",
     "text": [
      "Epoch=19\n"
     ]
    },
    {
     "name": "stderr",
     "output_type": "stream",
     "text": [
      "313it [01:24,  3.69it/s]                                                                                               \n",
      "79it [00:19,  4.12it/s]                                                                                                \n"
     ]
    },
    {
     "name": "stdout",
     "output_type": "stream",
     "text": [
      "For Fold=4\n",
      "Epoch=0\n"
     ]
    },
    {
     "name": "stderr",
     "output_type": "stream",
     "text": [
      "313it [01:25,  3.65it/s]                                                                                               \n",
      "79it [00:19,  4.10it/s]                                                                                                \n"
     ]
    },
    {
     "name": "stdout",
     "output_type": "stream",
     "text": [
      "Epoch=1\n"
     ]
    },
    {
     "name": "stderr",
     "output_type": "stream",
     "text": [
      "313it [01:19,  3.92it/s]                                                                                               \n",
      "79it [00:16,  4.75it/s]                                                                                                \n"
     ]
    },
    {
     "name": "stdout",
     "output_type": "stream",
     "text": [
      "Epoch=2\n"
     ]
    },
    {
     "name": "stderr",
     "output_type": "stream",
     "text": [
      "313it [01:11,  4.39it/s]                                                                                               \n",
      "79it [00:16,  4.72it/s]                                                                                                \n"
     ]
    },
    {
     "name": "stdout",
     "output_type": "stream",
     "text": [
      "Epoch=3\n"
     ]
    },
    {
     "name": "stderr",
     "output_type": "stream",
     "text": [
      "313it [01:14,  4.17it/s]                                                                                               \n",
      "79it [00:17,  4.55it/s]                                                                                                \n"
     ]
    },
    {
     "name": "stdout",
     "output_type": "stream",
     "text": [
      "Epoch=4\n"
     ]
    },
    {
     "name": "stderr",
     "output_type": "stream",
     "text": [
      "313it [01:14,  4.19it/s]                                                                                               \n",
      "79it [00:16,  4.80it/s]                                                                                                \n"
     ]
    },
    {
     "name": "stdout",
     "output_type": "stream",
     "text": [
      "Epoch=5\n"
     ]
    },
    {
     "name": "stderr",
     "output_type": "stream",
     "text": [
      "313it [01:11,  4.38it/s]                                                                                               \n",
      "79it [00:16,  4.84it/s]                                                                                                \n"
     ]
    },
    {
     "name": "stdout",
     "output_type": "stream",
     "text": [
      "Epoch=6\n"
     ]
    },
    {
     "name": "stderr",
     "output_type": "stream",
     "text": [
      "313it [01:12,  4.30it/s]                                                                                               \n",
      "79it [00:16,  4.77it/s]                                                                                                \n"
     ]
    },
    {
     "name": "stdout",
     "output_type": "stream",
     "text": [
      "Epoch=7\n"
     ]
    },
    {
     "name": "stderr",
     "output_type": "stream",
     "text": [
      "313it [01:14,  4.21it/s]                                                                                               \n",
      "79it [00:16,  4.86it/s]                                                                                                \n"
     ]
    },
    {
     "name": "stdout",
     "output_type": "stream",
     "text": [
      "Epoch=8\n"
     ]
    },
    {
     "name": "stderr",
     "output_type": "stream",
     "text": [
      "313it [01:11,  4.36it/s]                                                                                               \n",
      "79it [00:15,  4.99it/s]                                                                                                \n"
     ]
    },
    {
     "name": "stdout",
     "output_type": "stream",
     "text": [
      "Epoch=9\n"
     ]
    },
    {
     "name": "stderr",
     "output_type": "stream",
     "text": [
      "313it [01:16,  4.11it/s]                                                                                               \n",
      "79it [00:16,  4.72it/s]                                                                                                \n"
     ]
    },
    {
     "name": "stdout",
     "output_type": "stream",
     "text": [
      "Epoch=10\n"
     ]
    },
    {
     "name": "stderr",
     "output_type": "stream",
     "text": [
      "313it [01:12,  4.32it/s]                                                                                               \n",
      "79it [00:15,  4.96it/s]                                                                                                \n"
     ]
    },
    {
     "name": "stdout",
     "output_type": "stream",
     "text": [
      "Epoch=11\n"
     ]
    },
    {
     "name": "stderr",
     "output_type": "stream",
     "text": [
      "313it [01:10,  4.42it/s]                                                                                               \n",
      "79it [00:16,  4.91it/s]                                                                                                \n"
     ]
    },
    {
     "name": "stdout",
     "output_type": "stream",
     "text": [
      "Epoch=12\n"
     ]
    },
    {
     "name": "stderr",
     "output_type": "stream",
     "text": [
      "313it [01:10,  4.46it/s]                                                                                               \n",
      "79it [00:16,  4.84it/s]                                                                                                \n"
     ]
    },
    {
     "name": "stdout",
     "output_type": "stream",
     "text": [
      "Epoch=13\n"
     ]
    },
    {
     "name": "stderr",
     "output_type": "stream",
     "text": [
      "313it [01:12,  4.32it/s]                                                                                               \n",
      "79it [00:17,  4.61it/s]                                                                                                \n"
     ]
    },
    {
     "name": "stdout",
     "output_type": "stream",
     "text": [
      "Epoch=14\n"
     ]
    },
    {
     "name": "stderr",
     "output_type": "stream",
     "text": [
      "313it [01:19,  3.94it/s]                                                                                               \n",
      "79it [00:18,  4.33it/s]                                                                                                \n"
     ]
    },
    {
     "name": "stdout",
     "output_type": "stream",
     "text": [
      "Epoch=15\n"
     ]
    },
    {
     "name": "stderr",
     "output_type": "stream",
     "text": [
      "313it [01:18,  3.97it/s]                                                                                               \n",
      "79it [00:17,  4.47it/s]                                                                                                \n"
     ]
    },
    {
     "name": "stdout",
     "output_type": "stream",
     "text": [
      "Epoch=16\n"
     ]
    },
    {
     "name": "stderr",
     "output_type": "stream",
     "text": [
      "313it [01:14,  4.22it/s]                                                                                               \n",
      "79it [00:20,  3.92it/s]                                                                                                \n"
     ]
    },
    {
     "name": "stdout",
     "output_type": "stream",
     "text": [
      "Epoch=17\n"
     ]
    },
    {
     "name": "stderr",
     "output_type": "stream",
     "text": [
      "313it [01:19,  3.93it/s]                                                                                               \n",
      "79it [00:19,  4.05it/s]                                                                                                \n"
     ]
    },
    {
     "name": "stdout",
     "output_type": "stream",
     "text": [
      "Epoch=18\n"
     ]
    },
    {
     "name": "stderr",
     "output_type": "stream",
     "text": [
      "313it [01:24,  3.72it/s]                                                                                               \n",
      "79it [00:19,  4.14it/s]                                                                                                \n"
     ]
    },
    {
     "name": "stdout",
     "output_type": "stream",
     "text": [
      "Epoch=19\n"
     ]
    },
    {
     "name": "stderr",
     "output_type": "stream",
     "text": [
      "313it [01:24,  3.71it/s]                                                                                               \n",
      "79it [00:19,  4.11it/s]                                                                                                \n"
     ]
    }
   ],
   "source": [
    "train_fold(0)\n",
    "train_fold(1)\n",
    "train_fold(2)\n",
    "train_fold(3)\n",
    "train_fold(4)"
   ]
  },
  {
   "cell_type": "code",
   "execution_count": 43,
   "id": "95659cd6",
   "metadata": {
    "ExecuteTime": {
     "end_time": "2023-01-06T23:34:50.490409Z",
     "start_time": "2023-01-06T23:34:50.464409Z"
    }
   },
   "outputs": [],
   "source": [
    "def prediction_fold(fold):\n",
    "    model.load_state_dict(torch.load(f'./resnet18_fold_{fold}.bin'))\n",
    "    model.eval()\n",
    "    pred_list = []\n",
    "    test_dataset = CatDogset(test_df,mode = 'test' ,transform = test_transform)\n",
    "    testloader = DataLoader(test_dataset, batch_size = batch_size, shuffle=False, num_workers=0)\n",
    "    for x, fn in tqdm(testloader):\n",
    "        with torch.no_grad():\n",
    "            x = x.to(device)\n",
    "            output = model(x)\n",
    "            pred = torch.argmax(output, dim=1)\n",
    "            pred_list += [p.item() for p in pred]\n",
    "    return pred_list"
   ]
  },
  {
   "cell_type": "code",
   "execution_count": 44,
   "id": "cae93e6d",
   "metadata": {
    "ExecuteTime": {
     "end_time": "2023-01-06T23:39:45.881655Z",
     "start_time": "2023-01-06T23:34:52.584670Z"
    }
   },
   "outputs": [
    {
     "name": "stderr",
     "output_type": "stream",
     "text": [
      "100%|████████████████████████████████████████████████████████████████████████████████| 196/196 [01:38<00:00,  1.99it/s]\n",
      "100%|████████████████████████████████████████████████████████████████████████████████| 196/196 [00:49<00:00,  3.99it/s]\n",
      "100%|████████████████████████████████████████████████████████████████████████████████| 196/196 [00:48<00:00,  4.05it/s]\n",
      "100%|████████████████████████████████████████████████████████████████████████████████| 196/196 [00:48<00:00,  4.07it/s]\n",
      "100%|████████████████████████████████████████████████████████████████████████████████| 196/196 [00:48<00:00,  4.05it/s]\n"
     ]
    }
   ],
   "source": [
    "p1 = prediction_fold(0)\n",
    "p2 = prediction_fold(1)\n",
    "p3 = prediction_fold(2)\n",
    "p4 = prediction_fold(3)\n",
    "p5 = prediction_fold(4)"
   ]
  },
  {
   "cell_type": "code",
   "execution_count": 45,
   "id": "7872faa3",
   "metadata": {
    "ExecuteTime": {
     "end_time": "2023-01-06T23:39:47.908613Z",
     "start_time": "2023-01-06T23:39:47.829904Z"
    }
   },
   "outputs": [],
   "source": [
    "final_predictions = [mode(val) for val in list(zip(p1,p2,p3,p4,p5))]"
   ]
  },
  {
   "cell_type": "code",
   "execution_count": 46,
   "id": "e1a8584e",
   "metadata": {
    "ExecuteTime": {
     "end_time": "2023-01-06T23:39:59.835138Z",
     "start_time": "2023-01-06T23:39:59.719437Z"
    }
   },
   "outputs": [],
   "source": [
    "submission = sample_df[['id']].merge(pd.DataFrame({'id':test_df['file_id'].astype(int),'label':final_predictions}),how='left',on='id')\n",
    "submission.to_csv('preds_resnet18.csv', index=False)"
   ]
  },
  {
   "cell_type": "code",
   "execution_count": null,
   "id": "bb341214",
   "metadata": {},
   "outputs": [],
   "source": []
  }
 ],
 "metadata": {
  "kernelspec": {
   "display_name": "Python 3 (ipykernel)",
   "language": "python",
   "name": "python3"
  },
  "language_info": {
   "codemirror_mode": {
    "name": "ipython",
    "version": 3
   },
   "file_extension": ".py",
   "mimetype": "text/x-python",
   "name": "python",
   "nbconvert_exporter": "python",
   "pygments_lexer": "ipython3",
   "version": "3.8.5"
  },
  "toc": {
   "base_numbering": 1,
   "nav_menu": {},
   "number_sections": true,
   "sideBar": true,
   "skip_h1_title": false,
   "title_cell": "Table of Contents",
   "title_sidebar": "Contents",
   "toc_cell": false,
   "toc_position": {},
   "toc_section_display": true,
   "toc_window_display": false
  },
  "varInspector": {
   "cols": {
    "lenName": 16,
    "lenType": 16,
    "lenVar": 40
   },
   "kernels_config": {
    "python": {
     "delete_cmd_postfix": "",
     "delete_cmd_prefix": "del ",
     "library": "var_list.py",
     "varRefreshCmd": "print(var_dic_list())"
    },
    "r": {
     "delete_cmd_postfix": ") ",
     "delete_cmd_prefix": "rm(",
     "library": "var_list.r",
     "varRefreshCmd": "cat(var_dic_list()) "
    }
   },
   "position": {
    "height": "167.85px",
    "left": "1367.34px",
    "right": "20px",
    "top": "129px",
    "width": "246px"
   },
   "types_to_exclude": [
    "module",
    "function",
    "builtin_function_or_method",
    "instance",
    "_Feature"
   ],
   "window_display": false
  }
 },
 "nbformat": 4,
 "nbformat_minor": 5
}
